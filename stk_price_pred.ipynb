{
  "nbformat": 4,
  "nbformat_minor": 0,
  "metadata": {
    "colab": {
      "provenance": [],
      "gpuType": "T4"
    },
    "kernelspec": {
      "name": "python3",
      "display_name": "Python 3"
    },
    "language_info": {
      "name": "python"
    },
    "accelerator": "GPU"
  },
  "cells": [
    {
      "cell_type": "code",
      "execution_count": 27,
      "metadata": {
        "id": "KH873lAHoFyn"
      },
      "outputs": [],
      "source": [
        "import yfinance as yf\n",
        "import pandas as pd\n",
        "import numpy as np\n",
        "from numpy import array\n",
        "import matplotlib.pyplot as plt\n",
        "from sklearn.preprocessing import MinMaxScaler\n",
        "\n",
        "import tensorflow as tf\n",
        "from tensorflow.keras.models import Sequential\n",
        "from tensorflow.keras.layers import Dense,Dropout\n",
        "from tensorflow.keras.layers import LSTM\n",
        "\n",
        "import io"
      ]
    },
    {
      "cell_type": "code",
      "source": [
        "symbol = \"AAPL\""
      ],
      "metadata": {
        "id": "1qp0KtZRoY4c"
      },
      "execution_count": 28,
      "outputs": []
    },
    {
      "cell_type": "code",
      "source": [
        "stock = yf.Ticker(symbol)\n",
        "data = stock.history(period=\"max\")"
      ],
      "metadata": {
        "id": "GHtG8XPhoai8"
      },
      "execution_count": 29,
      "outputs": []
    },
    {
      "cell_type": "code",
      "source": [
        "data.shape"
      ],
      "metadata": {
        "colab": {
          "base_uri": "https://localhost:8080/"
        },
        "id": "39o8MMNvoiEL",
        "outputId": "9980137f-be27-41de-f141-a713934a59f8"
      },
      "execution_count": 30,
      "outputs": [
        {
          "output_type": "execute_result",
          "data": {
            "text/plain": [
              "(10736, 7)"
            ]
          },
          "metadata": {},
          "execution_count": 30
        }
      ]
    },
    {
      "cell_type": "code",
      "source": [
        "data.head()"
      ],
      "metadata": {
        "colab": {
          "base_uri": "https://localhost:8080/",
          "height": 237
        },
        "id": "vylno-1qokPy",
        "outputId": "193b5377-835f-4719-a69c-1d80d1c61aef"
      },
      "execution_count": 31,
      "outputs": [
        {
          "output_type": "execute_result",
          "data": {
            "text/plain": [
              "                               Open      High       Low     Close     Volume  \\\n",
              "Date                                                                           \n",
              "1980-12-12 00:00:00-05:00  0.099584  0.100017  0.099584  0.099584  469033600   \n",
              "1980-12-15 00:00:00-05:00  0.094821  0.094821  0.094388  0.094388  175884800   \n",
              "1980-12-16 00:00:00-05:00  0.087893  0.087893  0.087461  0.087461  105728000   \n",
              "1980-12-17 00:00:00-05:00  0.089625  0.090058  0.089625  0.089625   86441600   \n",
              "1980-12-18 00:00:00-05:00  0.092224  0.092657  0.092224  0.092224   73449600   \n",
              "\n",
              "                           Dividends  Stock Splits  \n",
              "Date                                                \n",
              "1980-12-12 00:00:00-05:00        0.0           0.0  \n",
              "1980-12-15 00:00:00-05:00        0.0           0.0  \n",
              "1980-12-16 00:00:00-05:00        0.0           0.0  \n",
              "1980-12-17 00:00:00-05:00        0.0           0.0  \n",
              "1980-12-18 00:00:00-05:00        0.0           0.0  "
            ],
            "text/html": [
              "\n",
              "\n",
              "  <div id=\"df-9809a58a-b92c-4fb8-9c23-655ab8ccfc72\">\n",
              "    <div class=\"colab-df-container\">\n",
              "      <div>\n",
              "<style scoped>\n",
              "    .dataframe tbody tr th:only-of-type {\n",
              "        vertical-align: middle;\n",
              "    }\n",
              "\n",
              "    .dataframe tbody tr th {\n",
              "        vertical-align: top;\n",
              "    }\n",
              "\n",
              "    .dataframe thead th {\n",
              "        text-align: right;\n",
              "    }\n",
              "</style>\n",
              "<table border=\"1\" class=\"dataframe\">\n",
              "  <thead>\n",
              "    <tr style=\"text-align: right;\">\n",
              "      <th></th>\n",
              "      <th>Open</th>\n",
              "      <th>High</th>\n",
              "      <th>Low</th>\n",
              "      <th>Close</th>\n",
              "      <th>Volume</th>\n",
              "      <th>Dividends</th>\n",
              "      <th>Stock Splits</th>\n",
              "    </tr>\n",
              "    <tr>\n",
              "      <th>Date</th>\n",
              "      <th></th>\n",
              "      <th></th>\n",
              "      <th></th>\n",
              "      <th></th>\n",
              "      <th></th>\n",
              "      <th></th>\n",
              "      <th></th>\n",
              "    </tr>\n",
              "  </thead>\n",
              "  <tbody>\n",
              "    <tr>\n",
              "      <th>1980-12-12 00:00:00-05:00</th>\n",
              "      <td>0.099584</td>\n",
              "      <td>0.100017</td>\n",
              "      <td>0.099584</td>\n",
              "      <td>0.099584</td>\n",
              "      <td>469033600</td>\n",
              "      <td>0.0</td>\n",
              "      <td>0.0</td>\n",
              "    </tr>\n",
              "    <tr>\n",
              "      <th>1980-12-15 00:00:00-05:00</th>\n",
              "      <td>0.094821</td>\n",
              "      <td>0.094821</td>\n",
              "      <td>0.094388</td>\n",
              "      <td>0.094388</td>\n",
              "      <td>175884800</td>\n",
              "      <td>0.0</td>\n",
              "      <td>0.0</td>\n",
              "    </tr>\n",
              "    <tr>\n",
              "      <th>1980-12-16 00:00:00-05:00</th>\n",
              "      <td>0.087893</td>\n",
              "      <td>0.087893</td>\n",
              "      <td>0.087461</td>\n",
              "      <td>0.087461</td>\n",
              "      <td>105728000</td>\n",
              "      <td>0.0</td>\n",
              "      <td>0.0</td>\n",
              "    </tr>\n",
              "    <tr>\n",
              "      <th>1980-12-17 00:00:00-05:00</th>\n",
              "      <td>0.089625</td>\n",
              "      <td>0.090058</td>\n",
              "      <td>0.089625</td>\n",
              "      <td>0.089625</td>\n",
              "      <td>86441600</td>\n",
              "      <td>0.0</td>\n",
              "      <td>0.0</td>\n",
              "    </tr>\n",
              "    <tr>\n",
              "      <th>1980-12-18 00:00:00-05:00</th>\n",
              "      <td>0.092224</td>\n",
              "      <td>0.092657</td>\n",
              "      <td>0.092224</td>\n",
              "      <td>0.092224</td>\n",
              "      <td>73449600</td>\n",
              "      <td>0.0</td>\n",
              "      <td>0.0</td>\n",
              "    </tr>\n",
              "  </tbody>\n",
              "</table>\n",
              "</div>\n",
              "      <button class=\"colab-df-convert\" onclick=\"convertToInteractive('df-9809a58a-b92c-4fb8-9c23-655ab8ccfc72')\"\n",
              "              title=\"Convert this dataframe to an interactive table.\"\n",
              "              style=\"display:none;\">\n",
              "\n",
              "  <svg xmlns=\"http://www.w3.org/2000/svg\" height=\"24px\"viewBox=\"0 0 24 24\"\n",
              "       width=\"24px\">\n",
              "    <path d=\"M0 0h24v24H0V0z\" fill=\"none\"/>\n",
              "    <path d=\"M18.56 5.44l.94 2.06.94-2.06 2.06-.94-2.06-.94-.94-2.06-.94 2.06-2.06.94zm-11 1L8.5 8.5l.94-2.06 2.06-.94-2.06-.94L8.5 2.5l-.94 2.06-2.06.94zm10 10l.94 2.06.94-2.06 2.06-.94-2.06-.94-.94-2.06-.94 2.06-2.06.94z\"/><path d=\"M17.41 7.96l-1.37-1.37c-.4-.4-.92-.59-1.43-.59-.52 0-1.04.2-1.43.59L10.3 9.45l-7.72 7.72c-.78.78-.78 2.05 0 2.83L4 21.41c.39.39.9.59 1.41.59.51 0 1.02-.2 1.41-.59l7.78-7.78 2.81-2.81c.8-.78.8-2.07 0-2.86zM5.41 20L4 18.59l7.72-7.72 1.47 1.35L5.41 20z\"/>\n",
              "  </svg>\n",
              "      </button>\n",
              "\n",
              "\n",
              "\n",
              "    <div id=\"df-e5076d07-6156-4209-a1de-809f39abcbb8\">\n",
              "      <button class=\"colab-df-quickchart\" onclick=\"quickchart('df-e5076d07-6156-4209-a1de-809f39abcbb8')\"\n",
              "              title=\"Suggest charts.\"\n",
              "              style=\"display:none;\">\n",
              "\n",
              "<svg xmlns=\"http://www.w3.org/2000/svg\" height=\"24px\"viewBox=\"0 0 24 24\"\n",
              "     width=\"24px\">\n",
              "    <g>\n",
              "        <path d=\"M19 3H5c-1.1 0-2 .9-2 2v14c0 1.1.9 2 2 2h14c1.1 0 2-.9 2-2V5c0-1.1-.9-2-2-2zM9 17H7v-7h2v7zm4 0h-2V7h2v10zm4 0h-2v-4h2v4z\"/>\n",
              "    </g>\n",
              "</svg>\n",
              "      </button>\n",
              "    </div>\n",
              "\n",
              "<style>\n",
              "  .colab-df-quickchart {\n",
              "    background-color: #E8F0FE;\n",
              "    border: none;\n",
              "    border-radius: 50%;\n",
              "    cursor: pointer;\n",
              "    display: none;\n",
              "    fill: #1967D2;\n",
              "    height: 32px;\n",
              "    padding: 0 0 0 0;\n",
              "    width: 32px;\n",
              "  }\n",
              "\n",
              "  .colab-df-quickchart:hover {\n",
              "    background-color: #E2EBFA;\n",
              "    box-shadow: 0px 1px 2px rgba(60, 64, 67, 0.3), 0px 1px 3px 1px rgba(60, 64, 67, 0.15);\n",
              "    fill: #174EA6;\n",
              "  }\n",
              "\n",
              "  [theme=dark] .colab-df-quickchart {\n",
              "    background-color: #3B4455;\n",
              "    fill: #D2E3FC;\n",
              "  }\n",
              "\n",
              "  [theme=dark] .colab-df-quickchart:hover {\n",
              "    background-color: #434B5C;\n",
              "    box-shadow: 0px 1px 3px 1px rgba(0, 0, 0, 0.15);\n",
              "    filter: drop-shadow(0px 1px 2px rgba(0, 0, 0, 0.3));\n",
              "    fill: #FFFFFF;\n",
              "  }\n",
              "</style>\n",
              "\n",
              "    <script>\n",
              "      async function quickchart(key) {\n",
              "        const containerElement = document.querySelector('#' + key);\n",
              "        const charts = await google.colab.kernel.invokeFunction(\n",
              "            'suggestCharts', [key], {});\n",
              "      }\n",
              "    </script>\n",
              "\n",
              "      <script>\n",
              "\n",
              "function displayQuickchartButton(domScope) {\n",
              "  let quickchartButtonEl =\n",
              "    domScope.querySelector('#df-e5076d07-6156-4209-a1de-809f39abcbb8 button.colab-df-quickchart');\n",
              "  quickchartButtonEl.style.display =\n",
              "    google.colab.kernel.accessAllowed ? 'block' : 'none';\n",
              "}\n",
              "\n",
              "        displayQuickchartButton(document);\n",
              "      </script>\n",
              "      <style>\n",
              "    .colab-df-container {\n",
              "      display:flex;\n",
              "      flex-wrap:wrap;\n",
              "      gap: 12px;\n",
              "    }\n",
              "\n",
              "    .colab-df-convert {\n",
              "      background-color: #E8F0FE;\n",
              "      border: none;\n",
              "      border-radius: 50%;\n",
              "      cursor: pointer;\n",
              "      display: none;\n",
              "      fill: #1967D2;\n",
              "      height: 32px;\n",
              "      padding: 0 0 0 0;\n",
              "      width: 32px;\n",
              "    }\n",
              "\n",
              "    .colab-df-convert:hover {\n",
              "      background-color: #E2EBFA;\n",
              "      box-shadow: 0px 1px 2px rgba(60, 64, 67, 0.3), 0px 1px 3px 1px rgba(60, 64, 67, 0.15);\n",
              "      fill: #174EA6;\n",
              "    }\n",
              "\n",
              "    [theme=dark] .colab-df-convert {\n",
              "      background-color: #3B4455;\n",
              "      fill: #D2E3FC;\n",
              "    }\n",
              "\n",
              "    [theme=dark] .colab-df-convert:hover {\n",
              "      background-color: #434B5C;\n",
              "      box-shadow: 0px 1px 3px 1px rgba(0, 0, 0, 0.15);\n",
              "      filter: drop-shadow(0px 1px 2px rgba(0, 0, 0, 0.3));\n",
              "      fill: #FFFFFF;\n",
              "    }\n",
              "  </style>\n",
              "\n",
              "      <script>\n",
              "        const buttonEl =\n",
              "          document.querySelector('#df-9809a58a-b92c-4fb8-9c23-655ab8ccfc72 button.colab-df-convert');\n",
              "        buttonEl.style.display =\n",
              "          google.colab.kernel.accessAllowed ? 'block' : 'none';\n",
              "\n",
              "        async function convertToInteractive(key) {\n",
              "          const element = document.querySelector('#df-9809a58a-b92c-4fb8-9c23-655ab8ccfc72');\n",
              "          const dataTable =\n",
              "            await google.colab.kernel.invokeFunction('convertToInteractive',\n",
              "                                                     [key], {});\n",
              "          if (!dataTable) return;\n",
              "\n",
              "          const docLinkHtml = 'Like what you see? Visit the ' +\n",
              "            '<a target=\"_blank\" href=https://colab.research.google.com/notebooks/data_table.ipynb>data table notebook</a>'\n",
              "            + ' to learn more about interactive tables.';\n",
              "          element.innerHTML = '';\n",
              "          dataTable['output_type'] = 'display_data';\n",
              "          await google.colab.output.renderOutput(dataTable, element);\n",
              "          const docLink = document.createElement('div');\n",
              "          docLink.innerHTML = docLinkHtml;\n",
              "          element.appendChild(docLink);\n",
              "        }\n",
              "      </script>\n",
              "    </div>\n",
              "  </div>\n"
            ]
          },
          "metadata": {},
          "execution_count": 31
        }
      ]
    },
    {
      "cell_type": "code",
      "source": [
        "df=data.reset_index()['Close']"
      ],
      "metadata": {
        "id": "lITyIUlUo-eP"
      },
      "execution_count": 32,
      "outputs": []
    },
    {
      "cell_type": "code",
      "source": [
        "data.tail()"
      ],
      "metadata": {
        "colab": {
          "base_uri": "https://localhost:8080/",
          "height": 237
        },
        "id": "UbeUpwvzp03n",
        "outputId": "ad27b0cb-1dbb-4e77-b071-00525c40ed30"
      },
      "execution_count": 33,
      "outputs": [
        {
          "output_type": "execute_result",
          "data": {
            "text/plain": [
              "                                 Open        High         Low       Close  \\\n",
              "Date                                                                        \n",
              "2023-07-10 00:00:00-04:00  189.259995  189.990005  187.039993  188.610001   \n",
              "2023-07-11 00:00:00-04:00  189.160004  189.300003  186.600006  188.080002   \n",
              "2023-07-12 00:00:00-04:00  189.679993  191.699997  188.470001  189.770004   \n",
              "2023-07-13 00:00:00-04:00  190.500000  191.190002  189.779999  190.539993   \n",
              "2023-07-14 00:00:00-04:00  190.229996  191.175003  189.630005  190.690002   \n",
              "\n",
              "                             Volume  Dividends  Stock Splits  \n",
              "Date                                                          \n",
              "2023-07-10 00:00:00-04:00  59922200        0.0           0.0  \n",
              "2023-07-11 00:00:00-04:00  46638100        0.0           0.0  \n",
              "2023-07-12 00:00:00-04:00  60750200        0.0           0.0  \n",
              "2023-07-13 00:00:00-04:00  41342300        0.0           0.0  \n",
              "2023-07-14 00:00:00-04:00  40764621        0.0           0.0  "
            ],
            "text/html": [
              "\n",
              "\n",
              "  <div id=\"df-d66fa7c6-a203-4c45-b943-5b5975ff879d\">\n",
              "    <div class=\"colab-df-container\">\n",
              "      <div>\n",
              "<style scoped>\n",
              "    .dataframe tbody tr th:only-of-type {\n",
              "        vertical-align: middle;\n",
              "    }\n",
              "\n",
              "    .dataframe tbody tr th {\n",
              "        vertical-align: top;\n",
              "    }\n",
              "\n",
              "    .dataframe thead th {\n",
              "        text-align: right;\n",
              "    }\n",
              "</style>\n",
              "<table border=\"1\" class=\"dataframe\">\n",
              "  <thead>\n",
              "    <tr style=\"text-align: right;\">\n",
              "      <th></th>\n",
              "      <th>Open</th>\n",
              "      <th>High</th>\n",
              "      <th>Low</th>\n",
              "      <th>Close</th>\n",
              "      <th>Volume</th>\n",
              "      <th>Dividends</th>\n",
              "      <th>Stock Splits</th>\n",
              "    </tr>\n",
              "    <tr>\n",
              "      <th>Date</th>\n",
              "      <th></th>\n",
              "      <th></th>\n",
              "      <th></th>\n",
              "      <th></th>\n",
              "      <th></th>\n",
              "      <th></th>\n",
              "      <th></th>\n",
              "    </tr>\n",
              "  </thead>\n",
              "  <tbody>\n",
              "    <tr>\n",
              "      <th>2023-07-10 00:00:00-04:00</th>\n",
              "      <td>189.259995</td>\n",
              "      <td>189.990005</td>\n",
              "      <td>187.039993</td>\n",
              "      <td>188.610001</td>\n",
              "      <td>59922200</td>\n",
              "      <td>0.0</td>\n",
              "      <td>0.0</td>\n",
              "    </tr>\n",
              "    <tr>\n",
              "      <th>2023-07-11 00:00:00-04:00</th>\n",
              "      <td>189.160004</td>\n",
              "      <td>189.300003</td>\n",
              "      <td>186.600006</td>\n",
              "      <td>188.080002</td>\n",
              "      <td>46638100</td>\n",
              "      <td>0.0</td>\n",
              "      <td>0.0</td>\n",
              "    </tr>\n",
              "    <tr>\n",
              "      <th>2023-07-12 00:00:00-04:00</th>\n",
              "      <td>189.679993</td>\n",
              "      <td>191.699997</td>\n",
              "      <td>188.470001</td>\n",
              "      <td>189.770004</td>\n",
              "      <td>60750200</td>\n",
              "      <td>0.0</td>\n",
              "      <td>0.0</td>\n",
              "    </tr>\n",
              "    <tr>\n",
              "      <th>2023-07-13 00:00:00-04:00</th>\n",
              "      <td>190.500000</td>\n",
              "      <td>191.190002</td>\n",
              "      <td>189.779999</td>\n",
              "      <td>190.539993</td>\n",
              "      <td>41342300</td>\n",
              "      <td>0.0</td>\n",
              "      <td>0.0</td>\n",
              "    </tr>\n",
              "    <tr>\n",
              "      <th>2023-07-14 00:00:00-04:00</th>\n",
              "      <td>190.229996</td>\n",
              "      <td>191.175003</td>\n",
              "      <td>189.630005</td>\n",
              "      <td>190.690002</td>\n",
              "      <td>40764621</td>\n",
              "      <td>0.0</td>\n",
              "      <td>0.0</td>\n",
              "    </tr>\n",
              "  </tbody>\n",
              "</table>\n",
              "</div>\n",
              "      <button class=\"colab-df-convert\" onclick=\"convertToInteractive('df-d66fa7c6-a203-4c45-b943-5b5975ff879d')\"\n",
              "              title=\"Convert this dataframe to an interactive table.\"\n",
              "              style=\"display:none;\">\n",
              "\n",
              "  <svg xmlns=\"http://www.w3.org/2000/svg\" height=\"24px\"viewBox=\"0 0 24 24\"\n",
              "       width=\"24px\">\n",
              "    <path d=\"M0 0h24v24H0V0z\" fill=\"none\"/>\n",
              "    <path d=\"M18.56 5.44l.94 2.06.94-2.06 2.06-.94-2.06-.94-.94-2.06-.94 2.06-2.06.94zm-11 1L8.5 8.5l.94-2.06 2.06-.94-2.06-.94L8.5 2.5l-.94 2.06-2.06.94zm10 10l.94 2.06.94-2.06 2.06-.94-2.06-.94-.94-2.06-.94 2.06-2.06.94z\"/><path d=\"M17.41 7.96l-1.37-1.37c-.4-.4-.92-.59-1.43-.59-.52 0-1.04.2-1.43.59L10.3 9.45l-7.72 7.72c-.78.78-.78 2.05 0 2.83L4 21.41c.39.39.9.59 1.41.59.51 0 1.02-.2 1.41-.59l7.78-7.78 2.81-2.81c.8-.78.8-2.07 0-2.86zM5.41 20L4 18.59l7.72-7.72 1.47 1.35L5.41 20z\"/>\n",
              "  </svg>\n",
              "      </button>\n",
              "\n",
              "\n",
              "\n",
              "    <div id=\"df-d6e0b525-1d65-4ee8-b2e6-2f4d1bd7f81e\">\n",
              "      <button class=\"colab-df-quickchart\" onclick=\"quickchart('df-d6e0b525-1d65-4ee8-b2e6-2f4d1bd7f81e')\"\n",
              "              title=\"Suggest charts.\"\n",
              "              style=\"display:none;\">\n",
              "\n",
              "<svg xmlns=\"http://www.w3.org/2000/svg\" height=\"24px\"viewBox=\"0 0 24 24\"\n",
              "     width=\"24px\">\n",
              "    <g>\n",
              "        <path d=\"M19 3H5c-1.1 0-2 .9-2 2v14c0 1.1.9 2 2 2h14c1.1 0 2-.9 2-2V5c0-1.1-.9-2-2-2zM9 17H7v-7h2v7zm4 0h-2V7h2v10zm4 0h-2v-4h2v4z\"/>\n",
              "    </g>\n",
              "</svg>\n",
              "      </button>\n",
              "    </div>\n",
              "\n",
              "<style>\n",
              "  .colab-df-quickchart {\n",
              "    background-color: #E8F0FE;\n",
              "    border: none;\n",
              "    border-radius: 50%;\n",
              "    cursor: pointer;\n",
              "    display: none;\n",
              "    fill: #1967D2;\n",
              "    height: 32px;\n",
              "    padding: 0 0 0 0;\n",
              "    width: 32px;\n",
              "  }\n",
              "\n",
              "  .colab-df-quickchart:hover {\n",
              "    background-color: #E2EBFA;\n",
              "    box-shadow: 0px 1px 2px rgba(60, 64, 67, 0.3), 0px 1px 3px 1px rgba(60, 64, 67, 0.15);\n",
              "    fill: #174EA6;\n",
              "  }\n",
              "\n",
              "  [theme=dark] .colab-df-quickchart {\n",
              "    background-color: #3B4455;\n",
              "    fill: #D2E3FC;\n",
              "  }\n",
              "\n",
              "  [theme=dark] .colab-df-quickchart:hover {\n",
              "    background-color: #434B5C;\n",
              "    box-shadow: 0px 1px 3px 1px rgba(0, 0, 0, 0.15);\n",
              "    filter: drop-shadow(0px 1px 2px rgba(0, 0, 0, 0.3));\n",
              "    fill: #FFFFFF;\n",
              "  }\n",
              "</style>\n",
              "\n",
              "    <script>\n",
              "      async function quickchart(key) {\n",
              "        const containerElement = document.querySelector('#' + key);\n",
              "        const charts = await google.colab.kernel.invokeFunction(\n",
              "            'suggestCharts', [key], {});\n",
              "      }\n",
              "    </script>\n",
              "\n",
              "      <script>\n",
              "\n",
              "function displayQuickchartButton(domScope) {\n",
              "  let quickchartButtonEl =\n",
              "    domScope.querySelector('#df-d6e0b525-1d65-4ee8-b2e6-2f4d1bd7f81e button.colab-df-quickchart');\n",
              "  quickchartButtonEl.style.display =\n",
              "    google.colab.kernel.accessAllowed ? 'block' : 'none';\n",
              "}\n",
              "\n",
              "        displayQuickchartButton(document);\n",
              "      </script>\n",
              "      <style>\n",
              "    .colab-df-container {\n",
              "      display:flex;\n",
              "      flex-wrap:wrap;\n",
              "      gap: 12px;\n",
              "    }\n",
              "\n",
              "    .colab-df-convert {\n",
              "      background-color: #E8F0FE;\n",
              "      border: none;\n",
              "      border-radius: 50%;\n",
              "      cursor: pointer;\n",
              "      display: none;\n",
              "      fill: #1967D2;\n",
              "      height: 32px;\n",
              "      padding: 0 0 0 0;\n",
              "      width: 32px;\n",
              "    }\n",
              "\n",
              "    .colab-df-convert:hover {\n",
              "      background-color: #E2EBFA;\n",
              "      box-shadow: 0px 1px 2px rgba(60, 64, 67, 0.3), 0px 1px 3px 1px rgba(60, 64, 67, 0.15);\n",
              "      fill: #174EA6;\n",
              "    }\n",
              "\n",
              "    [theme=dark] .colab-df-convert {\n",
              "      background-color: #3B4455;\n",
              "      fill: #D2E3FC;\n",
              "    }\n",
              "\n",
              "    [theme=dark] .colab-df-convert:hover {\n",
              "      background-color: #434B5C;\n",
              "      box-shadow: 0px 1px 3px 1px rgba(0, 0, 0, 0.15);\n",
              "      filter: drop-shadow(0px 1px 2px rgba(0, 0, 0, 0.3));\n",
              "      fill: #FFFFFF;\n",
              "    }\n",
              "  </style>\n",
              "\n",
              "      <script>\n",
              "        const buttonEl =\n",
              "          document.querySelector('#df-d66fa7c6-a203-4c45-b943-5b5975ff879d button.colab-df-convert');\n",
              "        buttonEl.style.display =\n",
              "          google.colab.kernel.accessAllowed ? 'block' : 'none';\n",
              "\n",
              "        async function convertToInteractive(key) {\n",
              "          const element = document.querySelector('#df-d66fa7c6-a203-4c45-b943-5b5975ff879d');\n",
              "          const dataTable =\n",
              "            await google.colab.kernel.invokeFunction('convertToInteractive',\n",
              "                                                     [key], {});\n",
              "          if (!dataTable) return;\n",
              "\n",
              "          const docLinkHtml = 'Like what you see? Visit the ' +\n",
              "            '<a target=\"_blank\" href=https://colab.research.google.com/notebooks/data_table.ipynb>data table notebook</a>'\n",
              "            + ' to learn more about interactive tables.';\n",
              "          element.innerHTML = '';\n",
              "          dataTable['output_type'] = 'display_data';\n",
              "          await google.colab.output.renderOutput(dataTable, element);\n",
              "          const docLink = document.createElement('div');\n",
              "          docLink.innerHTML = docLinkHtml;\n",
              "          element.appendChild(docLink);\n",
              "        }\n",
              "      </script>\n",
              "    </div>\n",
              "  </div>\n"
            ]
          },
          "metadata": {},
          "execution_count": 33
        }
      ]
    },
    {
      "cell_type": "code",
      "source": [
        "plt.plot(df,label='Closing Price')\n",
        "plt.xlabel('Day')\n",
        "plt.ylabel('Closing Price')"
      ],
      "metadata": {
        "colab": {
          "base_uri": "https://localhost:8080/",
          "height": 466
        },
        "id": "InowM3uspPYa",
        "outputId": "fa9698c9-d327-4ff0-9589-32f5c2a00e37"
      },
      "execution_count": 34,
      "outputs": [
        {
          "output_type": "execute_result",
          "data": {
            "text/plain": [
              "Text(0, 0.5, 'Closing Price')"
            ]
          },
          "metadata": {},
          "execution_count": 34
        },
        {
          "output_type": "display_data",
          "data": {
            "text/plain": [
              "<Figure size 640x480 with 1 Axes>"
            ],
            "image/png": "[encoded data removed]"
          },
          "metadata": {}
        }
      ]
    },
    {
      "cell_type": "code",
      "source": [
        "# SCALE THE DATA AS LSTM ARE SENSITIVE TO THE SCALE OF THE DATA."
      ],
      "metadata": {
        "id": "QLotlz8MpWmy"
      },
      "execution_count": 35,
      "outputs": []
    },
    {
      "cell_type": "code",
      "source": [
        "from sklearn.preprocessing import MinMaxScaler\n",
        "scaler = MinMaxScaler(feature_range=(0,1))\n",
        "df1 = scaler.fit_transform(np.array(df).reshape(-1,1))"
      ],
      "metadata": {
        "id": "UrlxGMXWqS8d"
      },
      "execution_count": 36,
      "outputs": []
    },
    {
      "cell_type": "code",
      "source": [
        "df1"
      ],
      "metadata": {
        "colab": {
          "base_uri": "https://localhost:8080/"
        },
        "id": "O4ACx7aGqaTE",
        "outputId": "c0c47a12-cbbb-43cb-fb06-282fa7da2f8c"
      },
      "execution_count": 37,
      "outputs": [
        {
          "output_type": "execute_result",
          "data": {
            "text/plain": [
              "array([[3.17029933e-04],\n",
              "       [2.90240454e-04],\n",
              "       [2.54516897e-04],\n",
              "       ...,\n",
              "       [9.78342929e-01],\n",
              "       [9.82313338e-01],\n",
              "       [9.83086853e-01]])"
            ]
          },
          "metadata": {},
          "execution_count": 37
        }
      ]
    },
    {
      "cell_type": "code",
      "source": [
        "# DATA PREPROCESSING\n",
        "training_size=int(len(df1)*0.70)\n",
        "test_size=len(df1)-training_size\n",
        "\n",
        "train_data=df1[0:training_size,:]\n",
        "test_data=df1[training_size:len(df1),:1]"
      ],
      "metadata": {
        "id": "4QIcoeEnveKb"
      },
      "execution_count": 38,
      "outputs": []
    },
    {
      "cell_type": "code",
      "source": [
        "print(train_data.shape,test_data.shape)"
      ],
      "metadata": {
        "colab": {
          "base_uri": "https://localhost:8080/"
        },
        "id": "MBRHyd04veMT",
        "outputId": "7f14033f-332c-4b08-e9f6-d4bf92f7bfbc"
      },
      "execution_count": 39,
      "outputs": [
        {
          "output_type": "stream",
          "name": "stdout",
          "text": [
            "(7515, 1) (3221, 1)\n"
          ]
        }
      ]
    },
    {
      "cell_type": "code",
      "source": [
        "def create_dataset(dataset, time_step=1):\n",
        "\tdataX, dataY = [], []\n",
        "\tfor i in range(len(dataset)-time_step-1):\n",
        "\t\ta = dataset[i:(i+time_step), 0]\n",
        "\t\tdataX.append(a)\n",
        "\t\tdataY.append(dataset[i + time_step, 0])\n",
        "\treturn np.array(dataX), np.array(dataY)"
      ],
      "metadata": {
        "id": "H42KKZPEvePu"
      },
      "execution_count": 40,
      "outputs": []
    },
    {
      "cell_type": "markdown",
      "source": [
        "***TRAIN_TEST_SPLIT:***"
      ],
      "metadata": {
        "id": "e-bFlOt5vP8Y"
      }
    },
    {
      "cell_type": "code",
      "source": [
        "time_step = 100\n",
        "x_train, y_train = create_dataset(train_data, time_step)\n",
        "x_test, y_test = create_dataset(test_data, time_step)"
      ],
      "metadata": {
        "id": "aXEdSVE5u2kr"
      },
      "execution_count": 77,
      "outputs": []
    },
    {
      "cell_type": "code",
      "source": [
        "print(x_train.shape), print(y_train.shape)"
      ],
      "metadata": {
        "colab": {
          "base_uri": "https://localhost:8080/"
        },
        "id": "-ma4vp1t0F6A",
        "outputId": "72c9c05d-e98a-4c2a-f488-c52b781bde1b"
      },
      "execution_count": 42,
      "outputs": [
        {
          "output_type": "stream",
          "name": "stdout",
          "text": [
            "(7414, 100)\n",
            "(7414,)\n"
          ]
        },
        {
          "output_type": "execute_result",
          "data": {
            "text/plain": [
              "(None, None)"
            ]
          },
          "metadata": {},
          "execution_count": 42
        }
      ]
    },
    {
      "cell_type": "code",
      "source": [
        "print(x_test.shape), print(y_test.shape)"
      ],
      "metadata": {
        "colab": {
          "base_uri": "https://localhost:8080/"
        },
        "id": "rnD7rcvd0F8e",
        "outputId": "14a7fe6f-89fe-4272-955d-0f6aa9cc5c75"
      },
      "execution_count": 43,
      "outputs": [
        {
          "output_type": "stream",
          "name": "stdout",
          "text": [
            "(3120, 100)\n",
            "(3120,)\n"
          ]
        },
        {
          "output_type": "execute_result",
          "data": {
            "text/plain": [
              "(None, None)"
            ]
          },
          "metadata": {},
          "execution_count": 43
        }
      ]
    },
    {
      "cell_type": "code",
      "source": [
        "# x_train =x_train.reshape(x_train.shape[0],x_train.shape[1] , 1)\n",
        "# x_test = x_test.reshape(x_test.shape[0],x_test.shape[1] , 1)\n",
        "# x_train.shape"
      ],
      "metadata": {
        "id": "oKw9ZpJM0GAV"
      },
      "execution_count": 44,
      "outputs": []
    },
    {
      "cell_type": "code",
      "source": [
        "x_train = x_train[...,np.newaxis]\n",
        "x_test = x_test[...,np.newaxis]"
      ],
      "metadata": {
        "id": "BgyDHZ9d0GCn"
      },
      "execution_count": 78,
      "outputs": []
    },
    {
      "cell_type": "code",
      "source": [
        "x_train.shape"
      ],
      "metadata": {
        "colab": {
          "base_uri": "https://localhost:8080/"
        },
        "id": "C2Ht40y80GGf",
        "outputId": "bff86b45-1b8c-4d2a-b2ae-bc41e6ca66b2"
      },
      "execution_count": 46,
      "outputs": [
        {
          "output_type": "execute_result",
          "data": {
            "text/plain": [
              "(7414, 100, 1)"
            ]
          },
          "metadata": {},
          "execution_count": 46
        }
      ]
    },
    {
      "cell_type": "code",
      "source": [
        "x_test.shape"
      ],
      "metadata": {
        "colab": {
          "base_uri": "https://localhost:8080/"
        },
        "id": "4Tv7Ex6P0GI7",
        "outputId": "1b4cabb8-f721-4753-deda-1c07cd266484"
      },
      "execution_count": 47,
      "outputs": [
        {
          "output_type": "execute_result",
          "data": {
            "text/plain": [
              "(3120, 100, 1)"
            ]
          },
          "metadata": {},
          "execution_count": 47
        }
      ]
    },
    {
      "cell_type": "code",
      "source": [
        "model = Sequential()\n",
        "model.add(LSTM(128,return_sequences=True,input_shape=(100,1)))\n",
        "model.add(Dropout(0.2))\n",
        "model.add(LSTM(64))\n",
        "model.add(Dropout(0.2))\n",
        "model.add(Dense(32,activation='relu'))\n",
        "model.add(Dense(1))\n",
        "model.compile(loss='mean_squared_error',optimizer='adam',metrics=['acc'])\n",
        "# model = Sequential([LSTM(128, input_shape=(1, 1), return_sequences=True),\n",
        "#                     Dropout(0.2),\n",
        "#                     LSTM(64),\n",
        "#                     Dropout(0.2),\n",
        "#                     Dense(32, activation='relu'),\n",
        "#                     Dense(1)])"
      ],
      "metadata": {
        "id": "X58GVrRG1UgW"
      },
      "execution_count": 23,
      "outputs": []
    },
    {
      "cell_type": "code",
      "source": [
        "model.summary()"
      ],
      "metadata": {
        "colab": {
          "base_uri": "https://localhost:8080/"
        },
        "id": "KF2wSwY_1Uir",
        "outputId": "02a930fc-1d1a-4a74-dce7-ecd319eb9cab"
      },
      "execution_count": 24,
      "outputs": [
        {
          "output_type": "stream",
          "name": "stdout",
          "text": [
            "Model: \"sequential\"\n",
            "_________________________________________________________________\n",
            " Layer (type)                Output Shape              Param #   \n",
            "=================================================================\n",
            " lstm (LSTM)                 (None, 100, 128)          66560     \n",
            "                                                                 \n",
            " dropout (Dropout)           (None, 100, 128)          0         \n",
            "                                                                 \n",
            " lstm_1 (LSTM)               (None, 64)                49408     \n",
            "                                                                 \n",
            " dropout_1 (Dropout)         (None, 64)                0         \n",
            "                                                                 \n",
            " dense (Dense)               (None, 32)                2080      \n",
            "                                                                 \n",
            " dense_1 (Dense)             (None, 1)                 33        \n",
            "                                                                 \n",
            "=================================================================\n",
            "Total params: 118,081\n",
            "Trainable params: 118,081\n",
            "Non-trainable params: 0\n",
            "_________________________________________________________________\n"
          ]
        }
      ]
    },
    {
      "cell_type": "code",
      "source": [
        "model.fit(x_train,y_train,validation_data=(x_test,y_test),epochs=100,batch_size=64,verbose=1)"
      ],
      "metadata": {
        "colab": {
          "base_uri": "https://localhost:8080/"
        },
        "id": "bidNLpC71UmE",
        "outputId": "3cdf75c7-e637-4899-fc08-6cc601e0b8bb"
      },
      "execution_count": 78,
      "outputs": [
        {
          "output_type": "stream",
          "name": "stdout",
          "text": [
            "Epoch 1/100\n",
            "116/116 [==============================] - 7s 19ms/step - loss: 9.1644e-06 - acc: 1.3488e-04 - val_loss: 0.0068 - val_acc: 3.2051e-04\n",
            "Epoch 2/100\n",
            "116/116 [==============================] - 1s 12ms/step - loss: 1.7903e-06 - acc: 1.3488e-04 - val_loss: 0.0035 - val_acc: 3.2051e-04\n",
            "Epoch 3/100\n",
            "116/116 [==============================] - 1s 13ms/step - loss: 1.3721e-06 - acc: 1.3488e-04 - val_loss: 0.0045 - val_acc: 3.2051e-04\n",
            "Epoch 4/100\n",
            "116/116 [==============================] - 1s 12ms/step - loss: 1.0325e-06 - acc: 1.3488e-04 - val_loss: 0.0055 - val_acc: 3.2051e-04\n",
            "Epoch 5/100\n",
            "116/116 [==============================] - 2s 16ms/step - loss: 1.1280e-06 - acc: 1.3488e-04 - val_loss: 0.0045 - val_acc: 3.2051e-04\n",
            "Epoch 6/100\n",
            "116/116 [==============================] - 1s 12ms/step - loss: 1.2406e-06 - acc: 1.3488e-04 - val_loss: 0.0043 - val_acc: 3.2051e-04\n",
            "Epoch 7/100\n",
            "116/116 [==============================] - 1s 12ms/step - loss: 1.1167e-06 - acc: 1.3488e-04 - val_loss: 0.0033 - val_acc: 3.2051e-04\n",
            "Epoch 8/100\n",
            "116/116 [==============================] - 1s 13ms/step - loss: 1.0089e-06 - acc: 1.3488e-04 - val_loss: 0.0031 - val_acc: 3.2051e-04\n",
            "Epoch 9/100\n",
            "116/116 [==============================] - 1s 12ms/step - loss: 1.2212e-06 - acc: 1.3488e-04 - val_loss: 0.0050 - val_acc: 3.2051e-04\n",
            "Epoch 10/100\n",
            "116/116 [==============================] - 1s 12ms/step - loss: 8.1766e-07 - acc: 1.3488e-04 - val_loss: 0.0023 - val_acc: 3.2051e-04\n",
            "Epoch 11/100\n",
            "116/116 [==============================] - 1s 13ms/step - loss: 9.5639e-07 - acc: 1.3488e-04 - val_loss: 0.0036 - val_acc: 3.2051e-04\n",
            "Epoch 12/100\n",
            "116/116 [==============================] - 1s 12ms/step - loss: 8.5824e-07 - acc: 1.3488e-04 - val_loss: 0.0034 - val_acc: 3.2051e-04\n",
            "Epoch 13/100\n",
            "116/116 [==============================] - 2s 16ms/step - loss: 9.9880e-07 - acc: 1.3488e-04 - val_loss: 0.0024 - val_acc: 3.2051e-04\n",
            "Epoch 14/100\n",
            "116/116 [==============================] - 2s 13ms/step - loss: 7.5771e-07 - acc: 1.3488e-04 - val_loss: 0.0042 - val_acc: 3.2051e-04\n",
            "Epoch 15/100\n",
            "116/116 [==============================] - 2s 13ms/step - loss: 8.5722e-07 - acc: 1.3488e-04 - val_loss: 0.0012 - val_acc: 3.2051e-04\n",
            "Epoch 16/100\n",
            "116/116 [==============================] - 1s 13ms/step - loss: 7.8496e-07 - acc: 1.3488e-04 - val_loss: 9.7449e-04 - val_acc: 3.2051e-04\n",
            "Epoch 17/100\n",
            "116/116 [==============================] - 1s 12ms/step - loss: 7.7260e-07 - acc: 1.3488e-04 - val_loss: 0.0020 - val_acc: 3.2051e-04\n",
            "Epoch 18/100\n",
            "116/116 [==============================] - 1s 12ms/step - loss: 8.7413e-07 - acc: 1.3488e-04 - val_loss: 0.0014 - val_acc: 3.2051e-04\n",
            "Epoch 19/100\n",
            "116/116 [==============================] - 1s 12ms/step - loss: 7.7926e-07 - acc: 1.3488e-04 - val_loss: 0.0030 - val_acc: 3.2051e-04\n",
            "Epoch 20/100\n",
            "116/116 [==============================] - 1s 12ms/step - loss: 7.6390e-07 - acc: 1.3488e-04 - val_loss: 0.0023 - val_acc: 3.2051e-04\n",
            "Epoch 21/100\n",
            "116/116 [==============================] - 2s 16ms/step - loss: 7.7871e-07 - acc: 1.3488e-04 - val_loss: 0.0016 - val_acc: 3.2051e-04\n",
            "Epoch 22/100\n",
            "116/116 [==============================] - 2s 14ms/step - loss: 7.2803e-07 - acc: 1.3488e-04 - val_loss: 0.0029 - val_acc: 3.2051e-04\n",
            "Epoch 23/100\n",
            "116/116 [==============================] - 1s 12ms/step - loss: 7.8905e-07 - acc: 1.3488e-04 - val_loss: 0.0027 - val_acc: 3.2051e-04\n",
            "Epoch 24/100\n",
            "116/116 [==============================] - 1s 12ms/step - loss: 6.3939e-07 - acc: 1.3488e-04 - val_loss: 0.0035 - val_acc: 3.2051e-04\n",
            "Epoch 25/100\n",
            "116/116 [==============================] - 1s 12ms/step - loss: 6.3692e-07 - acc: 1.3488e-04 - val_loss: 0.0032 - val_acc: 3.2051e-04\n",
            "Epoch 26/100\n",
            "116/116 [==============================] - 1s 12ms/step - loss: 7.0509e-07 - acc: 1.3488e-04 - val_loss: 0.0018 - val_acc: 3.2051e-04\n",
            "Epoch 27/100\n",
            "116/116 [==============================] - 1s 12ms/step - loss: 7.4710e-07 - acc: 1.3488e-04 - val_loss: 0.0020 - val_acc: 3.2051e-04\n",
            "Epoch 28/100\n",
            "116/116 [==============================] - 1s 12ms/step - loss: 7.6116e-07 - acc: 1.3488e-04 - val_loss: 0.0016 - val_acc: 3.2051e-04\n",
            "Epoch 29/100\n",
            "116/116 [==============================] - 2s 15ms/step - loss: 6.5942e-07 - acc: 1.3488e-04 - val_loss: 0.0016 - val_acc: 3.2051e-04\n",
            "Epoch 30/100\n",
            "116/116 [==============================] - 2s 15ms/step - loss: 7.3970e-07 - acc: 1.3488e-04 - val_loss: 0.0020 - val_acc: 3.2051e-04\n",
            "Epoch 31/100\n",
            "116/116 [==============================] - 1s 12ms/step - loss: 7.1130e-07 - acc: 1.3488e-04 - val_loss: 0.0020 - val_acc: 3.2051e-04\n",
            "Epoch 32/100\n",
            "116/116 [==============================] - 1s 12ms/step - loss: 5.7052e-07 - acc: 1.3488e-04 - val_loss: 0.0021 - val_acc: 3.2051e-04\n",
            "Epoch 33/100\n",
            "116/116 [==============================] - 1s 13ms/step - loss: 5.8187e-07 - acc: 1.3488e-04 - val_loss: 0.0014 - val_acc: 3.2051e-04\n",
            "Epoch 34/100\n",
            "116/116 [==============================] - 1s 13ms/step - loss: 6.2565e-07 - acc: 1.3488e-04 - val_loss: 0.0021 - val_acc: 3.2051e-04\n",
            "Epoch 35/100\n",
            "116/116 [==============================] - 1s 12ms/step - loss: 6.4522e-07 - acc: 1.3488e-04 - val_loss: 0.0018 - val_acc: 3.2051e-04\n",
            "Epoch 36/100\n",
            "116/116 [==============================] - 1s 12ms/step - loss: 6.5172e-07 - acc: 1.3488e-04 - val_loss: 0.0021 - val_acc: 3.2051e-04\n",
            "Epoch 37/100\n",
            "116/116 [==============================] - 2s 14ms/step - loss: 6.1206e-07 - acc: 1.3488e-04 - val_loss: 0.0021 - val_acc: 3.2051e-04\n",
            "Epoch 38/100\n",
            "116/116 [==============================] - 2s 16ms/step - loss: 5.7005e-07 - acc: 1.3488e-04 - val_loss: 0.0020 - val_acc: 3.2051e-04\n",
            "Epoch 39/100\n",
            "116/116 [==============================] - 1s 12ms/step - loss: 5.9492e-07 - acc: 1.3488e-04 - val_loss: 0.0014 - val_acc: 3.2051e-04\n",
            "Epoch 40/100\n",
            "116/116 [==============================] - 1s 12ms/step - loss: 6.0360e-07 - acc: 1.3488e-04 - val_loss: 0.0016 - val_acc: 3.2051e-04\n",
            "Epoch 41/100\n",
            "116/116 [==============================] - 1s 13ms/step - loss: 6.7943e-07 - acc: 1.3488e-04 - val_loss: 0.0011 - val_acc: 3.2051e-04\n",
            "Epoch 42/100\n",
            "116/116 [==============================] - 1s 12ms/step - loss: 5.3659e-07 - acc: 1.3488e-04 - val_loss: 0.0018 - val_acc: 3.2051e-04\n",
            "Epoch 43/100\n",
            "116/116 [==============================] - 1s 13ms/step - loss: 6.4309e-07 - acc: 1.3488e-04 - val_loss: 0.0028 - val_acc: 3.2051e-04\n",
            "Epoch 44/100\n",
            "116/116 [==============================] - 1s 12ms/step - loss: 5.1934e-07 - acc: 1.3488e-04 - val_loss: 0.0025 - val_acc: 3.2051e-04\n",
            "Epoch 45/100\n",
            "116/116 [==============================] - 2s 14ms/step - loss: 5.9554e-07 - acc: 1.3488e-04 - val_loss: 0.0032 - val_acc: 3.2051e-04\n",
            "Epoch 46/100\n",
            "116/116 [==============================] - 2s 15ms/step - loss: 5.7152e-07 - acc: 1.3488e-04 - val_loss: 0.0037 - val_acc: 3.2051e-04\n",
            "Epoch 47/100\n",
            "116/116 [==============================] - 1s 13ms/step - loss: 5.6577e-07 - acc: 1.3488e-04 - val_loss: 0.0039 - val_acc: 3.2051e-04\n",
            "Epoch 48/100\n",
            "116/116 [==============================] - 1s 12ms/step - loss: 5.5415e-07 - acc: 1.3488e-04 - val_loss: 0.0030 - val_acc: 3.2051e-04\n",
            "Epoch 49/100\n",
            "116/116 [==============================] - 1s 13ms/step - loss: 7.4089e-07 - acc: 1.3488e-04 - val_loss: 0.0042 - val_acc: 3.2051e-04\n",
            "Epoch 50/100\n",
            "116/116 [==============================] - 1s 12ms/step - loss: 5.3714e-07 - acc: 1.3488e-04 - val_loss: 0.0027 - val_acc: 3.2051e-04\n",
            "Epoch 51/100\n",
            "116/116 [==============================] - 1s 13ms/step - loss: 5.4569e-07 - acc: 1.3488e-04 - val_loss: 0.0031 - val_acc: 3.2051e-04\n",
            "Epoch 52/100\n",
            "116/116 [==============================] - 1s 12ms/step - loss: 4.5785e-07 - acc: 1.3488e-04 - val_loss: 0.0041 - val_acc: 3.2051e-04\n",
            "Epoch 53/100\n",
            "116/116 [==============================] - 2s 14ms/step - loss: 5.2652e-07 - acc: 1.3488e-04 - val_loss: 0.0034 - val_acc: 3.2051e-04\n",
            "Epoch 54/100\n",
            "116/116 [==============================] - 2s 16ms/step - loss: 6.5521e-07 - acc: 1.3488e-04 - val_loss: 0.0034 - val_acc: 3.2051e-04\n",
            "Epoch 55/100\n",
            "116/116 [==============================] - 1s 12ms/step - loss: 5.7028e-07 - acc: 1.3488e-04 - val_loss: 0.0020 - val_acc: 3.2051e-04\n",
            "Epoch 56/100\n",
            "116/116 [==============================] - 1s 12ms/step - loss: 5.5567e-07 - acc: 1.3488e-04 - val_loss: 0.0026 - val_acc: 3.2051e-04\n",
            "Epoch 57/100\n",
            "116/116 [==============================] - 1s 12ms/step - loss: 4.8370e-07 - acc: 1.3488e-04 - val_loss: 0.0017 - val_acc: 3.2051e-04\n",
            "Epoch 58/100\n",
            "116/116 [==============================] - 1s 12ms/step - loss: 4.7520e-07 - acc: 1.3488e-04 - val_loss: 0.0027 - val_acc: 3.2051e-04\n",
            "Epoch 59/100\n",
            "116/116 [==============================] - 2s 13ms/step - loss: 5.2366e-07 - acc: 1.3488e-04 - val_loss: 0.0035 - val_acc: 3.2051e-04\n",
            "Epoch 60/100\n",
            "116/116 [==============================] - 1s 13ms/step - loss: 5.2620e-07 - acc: 1.3488e-04 - val_loss: 0.0028 - val_acc: 3.2051e-04\n",
            "Epoch 61/100\n",
            "116/116 [==============================] - 2s 15ms/step - loss: 4.5371e-07 - acc: 1.3488e-04 - val_loss: 0.0037 - val_acc: 3.2051e-04\n",
            "Epoch 62/100\n",
            "116/116 [==============================] - 2s 15ms/step - loss: 6.7471e-07 - acc: 1.3488e-04 - val_loss: 0.0037 - val_acc: 3.2051e-04\n",
            "Epoch 63/100\n",
            "116/116 [==============================] - 1s 13ms/step - loss: 5.0186e-07 - acc: 1.3488e-04 - val_loss: 0.0028 - val_acc: 3.2051e-04\n",
            "Epoch 64/100\n",
            "116/116 [==============================] - 1s 12ms/step - loss: 5.1524e-07 - acc: 1.3488e-04 - val_loss: 0.0043 - val_acc: 3.2051e-04\n",
            "Epoch 65/100\n",
            "116/116 [==============================] - 1s 12ms/step - loss: 5.2122e-07 - acc: 1.3488e-04 - val_loss: 0.0032 - val_acc: 3.2051e-04\n",
            "Epoch 66/100\n",
            "116/116 [==============================] - 1s 13ms/step - loss: 6.0721e-07 - acc: 1.3488e-04 - val_loss: 0.0029 - val_acc: 3.2051e-04\n",
            "Epoch 67/100\n",
            "116/116 [==============================] - 1s 12ms/step - loss: 4.9310e-07 - acc: 1.3488e-04 - val_loss: 0.0028 - val_acc: 3.2051e-04\n",
            "Epoch 68/100\n",
            "116/116 [==============================] - 1s 12ms/step - loss: 4.5797e-07 - acc: 1.3488e-04 - val_loss: 0.0022 - val_acc: 3.2051e-04\n",
            "Epoch 69/100\n",
            "116/116 [==============================] - 2s 13ms/step - loss: 5.0959e-07 - acc: 1.3488e-04 - val_loss: 0.0039 - val_acc: 3.2051e-04\n",
            "Epoch 70/100\n",
            "116/116 [==============================] - 2s 17ms/step - loss: 4.8205e-07 - acc: 1.3488e-04 - val_loss: 0.0038 - val_acc: 3.2051e-04\n",
            "Epoch 71/100\n",
            "116/116 [==============================] - 1s 13ms/step - loss: 4.9569e-07 - acc: 1.3488e-04 - val_loss: 0.0051 - val_acc: 3.2051e-04\n",
            "Epoch 72/100\n",
            "116/116 [==============================] - 1s 12ms/step - loss: 4.7051e-07 - acc: 1.3488e-04 - val_loss: 0.0041 - val_acc: 3.2051e-04\n",
            "Epoch 73/100\n",
            "116/116 [==============================] - 1s 13ms/step - loss: 4.3937e-07 - acc: 1.3488e-04 - val_loss: 0.0034 - val_acc: 3.2051e-04\n",
            "Epoch 74/100\n",
            "116/116 [==============================] - 1s 12ms/step - loss: 5.0091e-07 - acc: 1.3488e-04 - val_loss: 0.0045 - val_acc: 3.2051e-04\n",
            "Epoch 75/100\n",
            "116/116 [==============================] - 1s 12ms/step - loss: 5.5525e-07 - acc: 1.3488e-04 - val_loss: 0.0032 - val_acc: 3.2051e-04\n",
            "Epoch 76/100\n",
            "116/116 [==============================] - 1s 13ms/step - loss: 4.6147e-07 - acc: 1.3488e-04 - val_loss: 0.0035 - val_acc: 3.2051e-04\n",
            "Epoch 77/100\n",
            "116/116 [==============================] - 2s 13ms/step - loss: 4.8350e-07 - acc: 1.3488e-04 - val_loss: 0.0047 - val_acc: 3.2051e-04\n",
            "Epoch 78/100\n",
            "116/116 [==============================] - 2s 17ms/step - loss: 5.0115e-07 - acc: 1.3488e-04 - val_loss: 0.0043 - val_acc: 3.2051e-04\n",
            "Epoch 79/100\n",
            "116/116 [==============================] - 1s 12ms/step - loss: 5.4879e-07 - acc: 1.3488e-04 - val_loss: 0.0065 - val_acc: 3.2051e-04\n",
            "Epoch 80/100\n",
            "116/116 [==============================] - 1s 13ms/step - loss: 6.1712e-07 - acc: 1.3488e-04 - val_loss: 0.0047 - val_acc: 3.2051e-04\n",
            "Epoch 81/100\n",
            "116/116 [==============================] - 1s 13ms/step - loss: 4.6332e-07 - acc: 1.3488e-04 - val_loss: 0.0040 - val_acc: 3.2051e-04\n",
            "Epoch 82/100\n",
            "116/116 [==============================] - 1s 13ms/step - loss: 4.7304e-07 - acc: 1.3488e-04 - val_loss: 0.0033 - val_acc: 3.2051e-04\n",
            "Epoch 83/100\n",
            "116/116 [==============================] - 1s 12ms/step - loss: 4.7155e-07 - acc: 1.3488e-04 - val_loss: 0.0058 - val_acc: 3.2051e-04\n",
            "Epoch 84/100\n",
            "116/116 [==============================] - 1s 12ms/step - loss: 4.7733e-07 - acc: 1.3488e-04 - val_loss: 0.0038 - val_acc: 3.2051e-04\n",
            "Epoch 85/100\n",
            "116/116 [==============================] - 2s 13ms/step - loss: 4.1614e-07 - acc: 1.3488e-04 - val_loss: 0.0059 - val_acc: 3.2051e-04\n",
            "Epoch 86/100\n",
            "116/116 [==============================] - 2s 16ms/step - loss: 4.9296e-07 - acc: 1.3488e-04 - val_loss: 0.0055 - val_acc: 3.2051e-04\n",
            "Epoch 87/100\n",
            "116/116 [==============================] - 2s 13ms/step - loss: 4.5106e-07 - acc: 1.3488e-04 - val_loss: 0.0062 - val_acc: 3.2051e-04\n",
            "Epoch 88/100\n",
            "116/116 [==============================] - 1s 12ms/step - loss: 4.3776e-07 - acc: 1.3488e-04 - val_loss: 0.0056 - val_acc: 3.2051e-04\n",
            "Epoch 89/100\n",
            "116/116 [==============================] - 1s 12ms/step - loss: 5.6828e-07 - acc: 1.3488e-04 - val_loss: 0.0070 - val_acc: 3.2051e-04\n",
            "Epoch 90/100\n",
            "116/116 [==============================] - 1s 12ms/step - loss: 5.9502e-07 - acc: 1.3488e-04 - val_loss: 0.0064 - val_acc: 3.2051e-04\n",
            "Epoch 91/100\n",
            "116/116 [==============================] - 1s 12ms/step - loss: 4.3300e-07 - acc: 1.3488e-04 - val_loss: 0.0087 - val_acc: 3.2051e-04\n",
            "Epoch 92/100\n",
            "116/116 [==============================] - 1s 12ms/step - loss: 4.1595e-07 - acc: 1.3488e-04 - val_loss: 0.0053 - val_acc: 3.2051e-04\n",
            "Epoch 93/100\n",
            "116/116 [==============================] - 2s 13ms/step - loss: 4.2497e-07 - acc: 1.3488e-04 - val_loss: 0.0055 - val_acc: 3.2051e-04\n",
            "Epoch 94/100\n",
            "116/116 [==============================] - 2s 17ms/step - loss: 4.6112e-07 - acc: 1.3488e-04 - val_loss: 0.0067 - val_acc: 3.2051e-04\n",
            "Epoch 95/100\n",
            "116/116 [==============================] - 1s 13ms/step - loss: 4.8786e-07 - acc: 1.3488e-04 - val_loss: 0.0052 - val_acc: 3.2051e-04\n",
            "Epoch 96/100\n",
            "116/116 [==============================] - 1s 13ms/step - loss: 4.1062e-07 - acc: 1.3488e-04 - val_loss: 0.0059 - val_acc: 3.2051e-04\n",
            "Epoch 97/100\n",
            "116/116 [==============================] - 1s 13ms/step - loss: 4.7318e-07 - acc: 1.3488e-04 - val_loss: 0.0062 - val_acc: 3.2051e-04\n",
            "Epoch 98/100\n",
            "116/116 [==============================] - 1s 12ms/step - loss: 4.8704e-07 - acc: 1.3488e-04 - val_loss: 0.0057 - val_acc: 3.2051e-04\n",
            "Epoch 99/100\n",
            "116/116 [==============================] - 1s 12ms/step - loss: 3.9781e-07 - acc: 1.3488e-04 - val_loss: 0.0067 - val_acc: 3.2051e-04\n",
            "Epoch 100/100\n",
            "116/116 [==============================] - 1s 12ms/step - loss: 4.9538e-07 - acc: 1.3488e-04 - val_loss: 0.0054 - val_acc: 3.2051e-04\n"
          ]
        },
        {
          "output_type": "execute_result",
          "data": {
            "text/plain": [
              "<keras.callbacks.History at 0x7e5457c88f70>"
            ]
          },
          "metadata": {},
          "execution_count": 78
        }
      ]
    },
    {
      "cell_type": "code",
      "source": [
        "model.save('model.h5')"
      ],
      "metadata": {
        "id": "bc2CYP-21Uoa"
      },
      "execution_count": 118,
      "outputs": []
    },
    {
      "cell_type": "code",
      "source": [
        "from keras.models import load_model\n",
        "model=load_model('/content/1model.h5')"
      ],
      "metadata": {
        "id": "8d46r7Jkkhc4"
      },
      "execution_count": 48,
      "outputs": []
    },
    {
      "cell_type": "code",
      "source": [
        "train_predict=model.predict(x_train)\n",
        "test_predict=model.predict(x_test)"
      ],
      "metadata": {
        "colab": {
          "base_uri": "https://localhost:8080/"
        },
        "id": "Jv3HG6U11Urz",
        "outputId": "ecf7bfd5-117d-42c0-b356-3e75332665fc"
      },
      "execution_count": 79,
      "outputs": [
        {
          "output_type": "stream",
          "name": "stdout",
          "text": [
            "232/232 [==============================] - 1s 6ms/step\n",
            "98/98 [==============================] - 1s 5ms/step\n"
          ]
        }
      ]
    },
    {
      "cell_type": "code",
      "source": [
        "train_predict=scaler.inverse_transform(train_predict)\n",
        "test_predict=scaler.inverse_transform(test_predict)"
      ],
      "metadata": {
        "id": "nNlHw-d71Uto"
      },
      "execution_count": 50,
      "outputs": []
    },
    {
      "cell_type": "code",
      "source": [
        "# train_predict = train_predict.flatten()\n",
        "# print(train_predict)"
      ],
      "metadata": {
        "id": "ap_cZ4aGlyOE"
      },
      "execution_count": 51,
      "outputs": []
    },
    {
      "cell_type": "code",
      "source": [
        "print(y_train)"
      ],
      "metadata": {
        "colab": {
          "base_uri": "https://localhost:8080/"
        },
        "id": "0FC-7S3VlyQd",
        "outputId": "5ab5347b-f7d4-4638-f005-a0419110d7cf"
      },
      "execution_count": 52,
      "outputs": [
        {
          "output_type": "stream",
          "name": "stdout",
          "text": [
            "[0.00029917 0.00030364 0.00029247 ... 0.0442205  0.04484346 0.04502659]\n"
          ]
        }
      ]
    },
    {
      "cell_type": "code",
      "source": [
        "# type(y_train)\n",
        "# type(train_predict)\n",
        "# pred = list(train_predict)\n",
        "# print(pred)\n",
        "# yt = list(y_train)"
      ],
      "metadata": {
        "id": "4FS8YIsflyUZ"
      },
      "execution_count": 53,
      "outputs": []
    },
    {
      "cell_type": "code",
      "source": [
        "# import math\n",
        "# from sklearn.metrics import accuracy_score\n",
        "# accuracy_score(yt,pred)"
      ],
      "metadata": {
        "id": "TPizLTExlyW5"
      },
      "execution_count": 54,
      "outputs": []
    },
    {
      "cell_type": "code",
      "source": [
        "### Calculate RMSE performance metrics\n",
        "import math\n",
        "from sklearn.metrics import mean_squared_error\n",
        "math.sqrt(mean_squared_error(y_train,train_predict))\n",
        "\n"
      ],
      "metadata": {
        "colab": {
          "base_uri": "https://localhost:8080/"
        },
        "id": "bghrnXUh1Uxh",
        "outputId": "a746334d-47e9-4d03-96cd-6dea5cb1ef9e"
      },
      "execution_count": 55,
      "outputs": [
        {
          "output_type": "execute_result",
          "data": {
            "text/plain": [
              "1.9006461503057992"
            ]
          },
          "metadata": {},
          "execution_count": 55
        }
      ]
    },
    {
      "cell_type": "code",
      "source": [
        "### Test Data RMSE\n",
        "math.sqrt(mean_squared_error(y_test,test_predict))"
      ],
      "metadata": {
        "colab": {
          "base_uri": "https://localhost:8080/"
        },
        "id": "LEeeNcmU1Uzn",
        "outputId": "bfbd535e-3910-4937-a20f-4ebe16893d8b"
      },
      "execution_count": 56,
      "outputs": [
        {
          "output_type": "execute_result",
          "data": {
            "text/plain": [
              "68.67307389553598"
            ]
          },
          "metadata": {},
          "execution_count": 56
        }
      ]
    },
    {
      "cell_type": "code",
      "source": [
        "len(train_predict)"
      ],
      "metadata": {
        "colab": {
          "base_uri": "https://localhost:8080/"
        },
        "id": "RF08eBuTpzJO",
        "outputId": "37613012-fe42-409c-f5fc-0940183cb797"
      },
      "execution_count": 57,
      "outputs": [
        {
          "output_type": "execute_result",
          "data": {
            "text/plain": [
              "7414"
            ]
          },
          "metadata": {},
          "execution_count": 57
        }
      ]
    },
    {
      "cell_type": "code",
      "source": [
        "len(test_predict)"
      ],
      "metadata": {
        "colab": {
          "base_uri": "https://localhost:8080/"
        },
        "id": "iep7U9-qpzNb",
        "outputId": "c4f8378e-4674-4a4f-937d-4244c177d05b"
      },
      "execution_count": 58,
      "outputs": [
        {
          "output_type": "execute_result",
          "data": {
            "text/plain": [
              "3120"
            ]
          },
          "metadata": {},
          "execution_count": 58
        }
      ]
    },
    {
      "cell_type": "code",
      "source": [
        "len(df1)"
      ],
      "metadata": {
        "colab": {
          "base_uri": "https://localhost:8080/"
        },
        "id": "8QxLA2wUqCpy",
        "outputId": "ccecab85-47e3-41fc-a9c3-79809f12bb51"
      },
      "execution_count": 59,
      "outputs": [
        {
          "output_type": "execute_result",
          "data": {
            "text/plain": [
              "10736"
            ]
          },
          "metadata": {},
          "execution_count": 59
        }
      ]
    },
    {
      "cell_type": "code",
      "source": [
        "### Plotting\n",
        "# shift train predictions for plotting\n",
        "look_back=100\n",
        "trainPredictPlot = np.empty_like(df1)\n",
        "trainPredictPlot[:, :] = np.nan\n",
        "trainPredictPlot[look_back:len(train_predict)+look_back, :] = train_predict\n",
        "# shift test predictions for plotting\n",
        "testPredictPlot = np.empty_like(df1)\n",
        "testPredictPlot[:, :] = np.nan\n",
        "testPredictPlot[len(train_predict)+(look_back*2)+1:len(df1)-1, :] = test_predict\n",
        "# plot baseline and predictions\n",
        "plt.plot(scaler.inverse_transform(df1))\n",
        "plt.plot(trainPredictPlot)\n",
        "plt.plot(testPredictPlot)\n",
        "plt.show()"
      ],
      "metadata": {
        "colab": {
          "base_uri": "https://localhost:8080/",
          "height": 430
        },
        "id": "gO7VmnP91U2z",
        "outputId": "8ed2c723-f23e-49bd-dfa5-f3462d0073b3"
      },
      "execution_count": 60,
      "outputs": [
        {
          "output_type": "display_data",
          "data": {
            "text/plain": [
              "<Figure size 640x480 with 1 Axes>"
            ],
            "image/png": "[encoded data removed]"
          },
          "metadata": {}
        }
      ]
    },
    {
      "cell_type": "code",
      "source": [],
      "metadata": {
        "id": "F4xQRcM-1U5S"
      },
      "execution_count": 60,
      "outputs": []
    },
    {
      "cell_type": "markdown",
      "source": [
        "predict data for next month\n"
      ],
      "metadata": {
        "id": "iBDY9vJcRDgz"
      }
    },
    {
      "cell_type": "markdown",
      "source": [],
      "metadata": {
        "id": "sQi95fNtvO0o"
      }
    },
    {
      "cell_type": "code",
      "source": [
        "len(test_data)"
      ],
      "metadata": {
        "colab": {
          "base_uri": "https://localhost:8080/"
        },
        "id": "UvtdIiP_RJpy",
        "outputId": "6c4938f4-28b1-46cd-d2ae-b745c5a35f97"
      },
      "execution_count": 81,
      "outputs": [
        {
          "output_type": "execute_result",
          "data": {
            "text/plain": [
              "3221"
            ]
          },
          "metadata": {},
          "execution_count": 81
        }
      ]
    },
    {
      "cell_type": "code",
      "source": [
        "x_input=test_data[3121:].reshape(1,-1)\n",
        "x_input.shape"
      ],
      "metadata": {
        "colab": {
          "base_uri": "https://localhost:8080/"
        },
        "id": "jJCKLn5PRJrz",
        "outputId": "00619aae-6044-45e8-eaf8-b2cb66bd2ec9"
      },
      "execution_count": 80,
      "outputs": [
        {
          "output_type": "execute_result",
          "data": {
            "text/plain": [
              "(1, 100)"
            ]
          },
          "metadata": {},
          "execution_count": 80
        }
      ]
    },
    {
      "cell_type": "code",
      "source": [
        "temp_input=list(x_input)\n",
        "temp_input=temp_input[0].tolist()"
      ],
      "metadata": {
        "id": "v_LNuHL0RJvs"
      },
      "execution_count": 82,
      "outputs": []
    },
    {
      "cell_type": "code",
      "source": [
        "temp_input"
      ],
      "metadata": {
        "colab": {
          "base_uri": "https://localhost:8080/"
        },
        "id": "K41lNSV3RJyQ",
        "outputId": "c13253a7-64a7-4af9-dae9-43f4b6a0aa33"
      },
      "execution_count": 64,
      "outputs": [
        {
          "output_type": "execute_result",
          "data": {
            "text/plain": [
              "[0.7643755412937925,\n",
              " 0.766589786823326,\n",
              " 0.7691129346323331,\n",
              " 0.7552612717447165,\n",
              " 0.7614919550379518,\n",
              " 0.7588658135753962,\n",
              " 0.7480521880833572,\n",
              " 0.7511418403274663,\n",
              " 0.7775063272877418,\n",
              " 0.7919244946104604,\n",
              " 0.7804415283921141,\n",
              " 0.7869811139648231,\n",
              " 0.7752406242720199,\n",
              " 0.764478534947341,\n",
              " 0.774622741031901,\n",
              " 0.7855392814963169,\n",
              " 0.7875990758861134,\n",
              " 0.8023261454883058,\n",
              " 0.7979491905965989,\n",
              " 0.8103075635295209,\n",
              " 0.8199882588325274,\n",
              " 0.8125218090590544,\n",
              " 0.8181859879171876,\n",
              " 0.8249831756455248,\n",
              " 0.8148389695609647,\n",
              " 0.8115948661771187,\n",
              " 0.8276608532754403,\n",
              " 0.8358482586237522,\n",
              " 0.8489275084503415,\n",
              " 0.855467172704222,\n",
              " 0.8526865801019295,\n",
              " 0.84305726360394,\n",
              " 0.8476916632889322,\n",
              " 0.8341489026807892,\n",
              " 0.8278153044151771,\n",
              " 0.8242107625844975,\n",
              " 0.8523260629739243,\n",
              " 0.8505238707397561,\n",
              " 0.8506267857121329,\n",
              " 0.8570119988262765,\n",
              " 0.8629852373262266,\n",
              " 0.8579387843458691,\n",
              " 0.849545470371632,\n",
              " 0.851141753979875,\n",
              " 0.8431087997712999,\n",
              " 0.84305726360394,\n",
              " 0.8670016750899283,\n",
              " 0.8735412606626372,\n",
              " 0.8730778285622551,\n",
              " 0.8676710158162356,\n",
              " 0.8620582944442908,\n",
              " 0.8535103719679737,\n",
              " 0.8935722280384721,\n",
              " 0.8932117109104669,\n",
              " 0.8843034286684878,\n",
              " 0.8935206918711122,\n",
              " 0.8944990922392363,\n",
              " 0.8896520173475662,\n",
              " 0.8870737927184796,\n",
              " 0.8870737927184796,\n",
              " 0.890270766080572,\n",
              " 0.9024399894771072,\n",
              " 0.9030072020427531,\n",
              " 0.8980569761351915,\n",
              " 0.8844439532408617,\n",
              " 0.8858877527386564,\n",
              " 0.8918177165942582,\n",
              " 0.9043993866920164,\n",
              " 0.9140420003079965,\n",
              " 0.9137841621088535,\n",
              " 0.9284284591185837,\n",
              " 0.9328630086278594,\n",
              " 0.9257986983221372,\n",
              " 0.9238908372745881,\n",
              " 0.9167233759529745,\n",
              " 0.9309036114129503,\n",
              " 0.9329146234763909,\n",
              " 0.9475073056375896,\n",
              " 0.9450322320243946,\n",
              " 0.9483323564023785,\n",
              " 0.9589546292852275,\n",
              " 0.9533341184773,\n",
              " 0.9537981800270544,\n",
              " 0.94838397125091,\n",
              " 0.9640595423760404,\n",
              " 0.9624094408464627,\n",
              " 0.9551389071901292,\n",
              " 0.9695253660007164,\n",
              " 0.9756615532069297,\n",
              " 0.9774147270712273,\n",
              " 1.0,\n",
              " 0.9922137899453806,\n",
              " 0.9863869771056702,\n",
              " 0.9888620507188652,\n",
              " 0.9830352378791548,\n",
              " 0.9723614288289458,\n",
              " 0.9696285170166079,\n",
              " 0.9783429288519078,\n",
              " 0.9823133381302575,\n",
              " 0.9830868527276864]"
            ]
          },
          "metadata": {},
          "execution_count": 64
        }
      ]
    },
    {
      "cell_type": "code",
      "source": [
        "lst_output=[]\n",
        "n_steps=100\n",
        "i=0\n",
        "while(i<30):\n",
        "\n",
        "    if(len(temp_input)>100):\n",
        "\n",
        "        x_input=np.array(temp_input[1:])\n",
        "        print(\"{} day input {}\".format(i,x_input))\n",
        "        x_input=x_input.reshape(1,-1)\n",
        "        x_input = x_input.reshape((1, n_steps, 1))\n",
        "\n",
        "        yhat = model.predict(x_input)\n",
        "        print(\"{} day output {}\".format(i,yhat))\n",
        "        temp_input.extend(yhat[0].tolist())\n",
        "        temp_input=temp_input[1:]\n",
        "\n",
        "        lst_output.extend(yhat.tolist())\n",
        "        i=i+1\n",
        "    else:\n",
        "        x_input = x_input.reshape((1, n_steps,1))\n",
        "        yhat = model.predict(x_input, verbose=0)\n",
        "        print(yhat[0])\n",
        "        temp_input.extend(yhat[0].tolist())\n",
        "        print(len(temp_input))\n",
        "        lst_output.extend(yhat.tolist())\n",
        "        i=i+1\n",
        "\n",
        "\n",
        "print(lst_output)"
      ],
      "metadata": {
        "colab": {
          "base_uri": "https://localhost:8080/"
        },
        "id": "xZp1B3IjRJ5v",
        "outputId": "afcd5729-e8fc-49a0-e7e3-ff523e598e76"
      },
      "execution_count": 67,
      "outputs": [
        {
          "output_type": "stream",
          "name": "stdout",
          "text": [
            "[0.7900758]\n",
            "101\n",
            "1 day input [0.76658979 0.76911293 0.75526127 0.76149196 0.75886581 0.74805219\n",
            " 0.75114184 0.77750633 0.79192449 0.78044153 0.78698111 0.77524062\n",
            " 0.76447853 0.77462274 0.78553928 0.78759908 0.80232615 0.79794919\n",
            " 0.81030756 0.81998826 0.81252181 0.81818599 0.82498318 0.81483897\n",
            " 0.81159487 0.82766085 0.83584826 0.84892751 0.85546717 0.85268658\n",
            " 0.84305726 0.84769166 0.8341489  0.8278153  0.82421076 0.85232606\n",
            " 0.85052387 0.85062679 0.857012   0.86298524 0.85793878 0.84954547\n",
            " 0.85114175 0.8431088  0.84305726 0.86700168 0.87354126 0.87307783\n",
            " 0.86767102 0.86205829 0.85351037 0.89357223 0.89321171 0.88430343\n",
            " 0.89352069 0.89449909 0.88965202 0.88707379 0.88707379 0.89027077\n",
            " 0.90243999 0.9030072  0.89805698 0.88444395 0.88588775 0.89181772\n",
            " 0.90439939 0.914042   0.91378416 0.92842846 0.93286301 0.9257987\n",
            " 0.92389084 0.91672338 0.93090361 0.93291462 0.94750731 0.94503223\n",
            " 0.94833236 0.95895463 0.95333412 0.95379818 0.94838397 0.96405954\n",
            " 0.96240944 0.95513891 0.96952537 0.97566155 0.97741473 1.\n",
            " 0.99221379 0.98638698 0.98886205 0.98303524 0.97236143 0.96962852\n",
            " 0.97834293 0.98231334 0.98308685 0.79007578]\n",
            "1/1 [==============================] - 0s 36ms/step\n",
            "1 day output [[0.76926976]]\n",
            "2 day input [0.76911293 0.75526127 0.76149196 0.75886581 0.74805219 0.75114184\n",
            " 0.77750633 0.79192449 0.78044153 0.78698111 0.77524062 0.76447853\n",
            " 0.77462274 0.78553928 0.78759908 0.80232615 0.79794919 0.81030756\n",
            " 0.81998826 0.81252181 0.81818599 0.82498318 0.81483897 0.81159487\n",
            " 0.82766085 0.83584826 0.84892751 0.85546717 0.85268658 0.84305726\n",
            " 0.84769166 0.8341489  0.8278153  0.82421076 0.85232606 0.85052387\n",
            " 0.85062679 0.857012   0.86298524 0.85793878 0.84954547 0.85114175\n",
            " 0.8431088  0.84305726 0.86700168 0.87354126 0.87307783 0.86767102\n",
            " 0.86205829 0.85351037 0.89357223 0.89321171 0.88430343 0.89352069\n",
            " 0.89449909 0.88965202 0.88707379 0.88707379 0.89027077 0.90243999\n",
            " 0.9030072  0.89805698 0.88444395 0.88588775 0.89181772 0.90439939\n",
            " 0.914042   0.91378416 0.92842846 0.93286301 0.9257987  0.92389084\n",
            " 0.91672338 0.93090361 0.93291462 0.94750731 0.94503223 0.94833236\n",
            " 0.95895463 0.95333412 0.95379818 0.94838397 0.96405954 0.96240944\n",
            " 0.95513891 0.96952537 0.97566155 0.97741473 1.         0.99221379\n",
            " 0.98638698 0.98886205 0.98303524 0.97236143 0.96962852 0.97834293\n",
            " 0.98231334 0.98308685 0.79007578 0.76926976]\n",
            "1/1 [==============================] - 0s 99ms/step\n",
            "2 day output [[0.7357475]]\n",
            "3 day input [0.75526127 0.76149196 0.75886581 0.74805219 0.75114184 0.77750633\n",
            " 0.79192449 0.78044153 0.78698111 0.77524062 0.76447853 0.77462274\n",
            " 0.78553928 0.78759908 0.80232615 0.79794919 0.81030756 0.81998826\n",
            " 0.81252181 0.81818599 0.82498318 0.81483897 0.81159487 0.82766085\n",
            " 0.83584826 0.84892751 0.85546717 0.85268658 0.84305726 0.84769166\n",
            " 0.8341489  0.8278153  0.82421076 0.85232606 0.85052387 0.85062679\n",
            " 0.857012   0.86298524 0.85793878 0.84954547 0.85114175 0.8431088\n",
            " 0.84305726 0.86700168 0.87354126 0.87307783 0.86767102 0.86205829\n",
            " 0.85351037 0.89357223 0.89321171 0.88430343 0.89352069 0.89449909\n",
            " 0.88965202 0.88707379 0.88707379 0.89027077 0.90243999 0.9030072\n",
            " 0.89805698 0.88444395 0.88588775 0.89181772 0.90439939 0.914042\n",
            " 0.91378416 0.92842846 0.93286301 0.9257987  0.92389084 0.91672338\n",
            " 0.93090361 0.93291462 0.94750731 0.94503223 0.94833236 0.95895463\n",
            " 0.95333412 0.95379818 0.94838397 0.96405954 0.96240944 0.95513891\n",
            " 0.96952537 0.97566155 0.97741473 1.         0.99221379 0.98638698\n",
            " 0.98886205 0.98303524 0.97236143 0.96962852 0.97834293 0.98231334\n",
            " 0.98308685 0.79007578 0.76926976 0.73574752]\n",
            "1/1 [==============================] - 0s 96ms/step\n",
            "3 day output [[0.6980819]]\n",
            "4 day input [0.76149196 0.75886581 0.74805219 0.75114184 0.77750633 0.79192449\n",
            " 0.78044153 0.78698111 0.77524062 0.76447853 0.77462274 0.78553928\n",
            " 0.78759908 0.80232615 0.79794919 0.81030756 0.81998826 0.81252181\n",
            " 0.81818599 0.82498318 0.81483897 0.81159487 0.82766085 0.83584826\n",
            " 0.84892751 0.85546717 0.85268658 0.84305726 0.84769166 0.8341489\n",
            " 0.8278153  0.82421076 0.85232606 0.85052387 0.85062679 0.857012\n",
            " 0.86298524 0.85793878 0.84954547 0.85114175 0.8431088  0.84305726\n",
            " 0.86700168 0.87354126 0.87307783 0.86767102 0.86205829 0.85351037\n",
            " 0.89357223 0.89321171 0.88430343 0.89352069 0.89449909 0.88965202\n",
            " 0.88707379 0.88707379 0.89027077 0.90243999 0.9030072  0.89805698\n",
            " 0.88444395 0.88588775 0.89181772 0.90439939 0.914042   0.91378416\n",
            " 0.92842846 0.93286301 0.9257987  0.92389084 0.91672338 0.93090361\n",
            " 0.93291462 0.94750731 0.94503223 0.94833236 0.95895463 0.95333412\n",
            " 0.95379818 0.94838397 0.96405954 0.96240944 0.95513891 0.96952537\n",
            " 0.97566155 0.97741473 1.         0.99221379 0.98638698 0.98886205\n",
            " 0.98303524 0.97236143 0.96962852 0.97834293 0.98231334 0.98308685\n",
            " 0.79007578 0.76926976 0.73574752 0.69808191]\n",
            "1/1 [==============================] - 0s 85ms/step\n",
            "4 day output [[0.6609842]]\n",
            "5 day input [0.75886581 0.74805219 0.75114184 0.77750633 0.79192449 0.78044153\n",
            " 0.78698111 0.77524062 0.76447853 0.77462274 0.78553928 0.78759908\n",
            " 0.80232615 0.79794919 0.81030756 0.81998826 0.81252181 0.81818599\n",
            " 0.82498318 0.81483897 0.81159487 0.82766085 0.83584826 0.84892751\n",
            " 0.85546717 0.85268658 0.84305726 0.84769166 0.8341489  0.8278153\n",
            " 0.82421076 0.85232606 0.85052387 0.85062679 0.857012   0.86298524\n",
            " 0.85793878 0.84954547 0.85114175 0.8431088  0.84305726 0.86700168\n",
            " 0.87354126 0.87307783 0.86767102 0.86205829 0.85351037 0.89357223\n",
            " 0.89321171 0.88430343 0.89352069 0.89449909 0.88965202 0.88707379\n",
            " 0.88707379 0.89027077 0.90243999 0.9030072  0.89805698 0.88444395\n",
            " 0.88588775 0.89181772 0.90439939 0.914042   0.91378416 0.92842846\n",
            " 0.93286301 0.9257987  0.92389084 0.91672338 0.93090361 0.93291462\n",
            " 0.94750731 0.94503223 0.94833236 0.95895463 0.95333412 0.95379818\n",
            " 0.94838397 0.96405954 0.96240944 0.95513891 0.96952537 0.97566155\n",
            " 0.97741473 1.         0.99221379 0.98638698 0.98886205 0.98303524\n",
            " 0.97236143 0.96962852 0.97834293 0.98231334 0.98308685 0.79007578\n",
            " 0.76926976 0.73574752 0.69808191 0.66098422]\n",
            "1/1 [==============================] - 0s 83ms/step\n",
            "5 day output [[0.62636185]]\n",
            "6 day input [0.74805219 0.75114184 0.77750633 0.79192449 0.78044153 0.78698111\n",
            " 0.77524062 0.76447853 0.77462274 0.78553928 0.78759908 0.80232615\n",
            " 0.79794919 0.81030756 0.81998826 0.81252181 0.81818599 0.82498318\n",
            " 0.81483897 0.81159487 0.82766085 0.83584826 0.84892751 0.85546717\n",
            " 0.85268658 0.84305726 0.84769166 0.8341489  0.8278153  0.82421076\n",
            " 0.85232606 0.85052387 0.85062679 0.857012   0.86298524 0.85793878\n",
            " 0.84954547 0.85114175 0.8431088  0.84305726 0.86700168 0.87354126\n",
            " 0.87307783 0.86767102 0.86205829 0.85351037 0.89357223 0.89321171\n",
            " 0.88430343 0.89352069 0.89449909 0.88965202 0.88707379 0.88707379\n",
            " 0.89027077 0.90243999 0.9030072  0.89805698 0.88444395 0.88588775\n",
            " 0.89181772 0.90439939 0.914042   0.91378416 0.92842846 0.93286301\n",
            " 0.9257987  0.92389084 0.91672338 0.93090361 0.93291462 0.94750731\n",
            " 0.94503223 0.94833236 0.95895463 0.95333412 0.95379818 0.94838397\n",
            " 0.96405954 0.96240944 0.95513891 0.96952537 0.97566155 0.97741473\n",
            " 1.         0.99221379 0.98638698 0.98886205 0.98303524 0.97236143\n",
            " 0.96962852 0.97834293 0.98231334 0.98308685 0.79007578 0.76926976\n",
            " 0.73574752 0.69808191 0.66098422 0.62636185]\n",
            "1/1 [==============================] - 0s 84ms/step\n",
            "6 day output [[0.5947782]]\n",
            "7 day input [0.75114184 0.77750633 0.79192449 0.78044153 0.78698111 0.77524062\n",
            " 0.76447853 0.77462274 0.78553928 0.78759908 0.80232615 0.79794919\n",
            " 0.81030756 0.81998826 0.81252181 0.81818599 0.82498318 0.81483897\n",
            " 0.81159487 0.82766085 0.83584826 0.84892751 0.85546717 0.85268658\n",
            " 0.84305726 0.84769166 0.8341489  0.8278153  0.82421076 0.85232606\n",
            " 0.85052387 0.85062679 0.857012   0.86298524 0.85793878 0.84954547\n",
            " 0.85114175 0.8431088  0.84305726 0.86700168 0.87354126 0.87307783\n",
            " 0.86767102 0.86205829 0.85351037 0.89357223 0.89321171 0.88430343\n",
            " 0.89352069 0.89449909 0.88965202 0.88707379 0.88707379 0.89027077\n",
            " 0.90243999 0.9030072  0.89805698 0.88444395 0.88588775 0.89181772\n",
            " 0.90439939 0.914042   0.91378416 0.92842846 0.93286301 0.9257987\n",
            " 0.92389084 0.91672338 0.93090361 0.93291462 0.94750731 0.94503223\n",
            " 0.94833236 0.95895463 0.95333412 0.95379818 0.94838397 0.96405954\n",
            " 0.96240944 0.95513891 0.96952537 0.97566155 0.97741473 1.\n",
            " 0.99221379 0.98638698 0.98886205 0.98303524 0.97236143 0.96962852\n",
            " 0.97834293 0.98231334 0.98308685 0.79007578 0.76926976 0.73574752\n",
            " 0.69808191 0.66098422 0.62636185 0.59477818]\n",
            "1/1 [==============================] - 0s 24ms/step\n",
            "7 day output [[0.56629425]]\n",
            "8 day input [0.77750633 0.79192449 0.78044153 0.78698111 0.77524062 0.76447853\n",
            " 0.77462274 0.78553928 0.78759908 0.80232615 0.79794919 0.81030756\n",
            " 0.81998826 0.81252181 0.81818599 0.82498318 0.81483897 0.81159487\n",
            " 0.82766085 0.83584826 0.84892751 0.85546717 0.85268658 0.84305726\n",
            " 0.84769166 0.8341489  0.8278153  0.82421076 0.85232606 0.85052387\n",
            " 0.85062679 0.857012   0.86298524 0.85793878 0.84954547 0.85114175\n",
            " 0.8431088  0.84305726 0.86700168 0.87354126 0.87307783 0.86767102\n",
            " 0.86205829 0.85351037 0.89357223 0.89321171 0.88430343 0.89352069\n",
            " 0.89449909 0.88965202 0.88707379 0.88707379 0.89027077 0.90243999\n",
            " 0.9030072  0.89805698 0.88444395 0.88588775 0.89181772 0.90439939\n",
            " 0.914042   0.91378416 0.92842846 0.93286301 0.9257987  0.92389084\n",
            " 0.91672338 0.93090361 0.93291462 0.94750731 0.94503223 0.94833236\n",
            " 0.95895463 0.95333412 0.95379818 0.94838397 0.96405954 0.96240944\n",
            " 0.95513891 0.96952537 0.97566155 0.97741473 1.         0.99221379\n",
            " 0.98638698 0.98886205 0.98303524 0.97236143 0.96962852 0.97834293\n",
            " 0.98231334 0.98308685 0.79007578 0.76926976 0.73574752 0.69808191\n",
            " 0.66098422 0.62636185 0.59477818 0.56629425]\n",
            "1/1 [==============================] - 0s 21ms/step\n",
            "8 day output [[0.5408173]]\n",
            "9 day input [0.79192449 0.78044153 0.78698111 0.77524062 0.76447853 0.77462274\n",
            " 0.78553928 0.78759908 0.80232615 0.79794919 0.81030756 0.81998826\n",
            " 0.81252181 0.81818599 0.82498318 0.81483897 0.81159487 0.82766085\n",
            " 0.83584826 0.84892751 0.85546717 0.85268658 0.84305726 0.84769166\n",
            " 0.8341489  0.8278153  0.82421076 0.85232606 0.85052387 0.85062679\n",
            " 0.857012   0.86298524 0.85793878 0.84954547 0.85114175 0.8431088\n",
            " 0.84305726 0.86700168 0.87354126 0.87307783 0.86767102 0.86205829\n",
            " 0.85351037 0.89357223 0.89321171 0.88430343 0.89352069 0.89449909\n",
            " 0.88965202 0.88707379 0.88707379 0.89027077 0.90243999 0.9030072\n",
            " 0.89805698 0.88444395 0.88588775 0.89181772 0.90439939 0.914042\n",
            " 0.91378416 0.92842846 0.93286301 0.9257987  0.92389084 0.91672338\n",
            " 0.93090361 0.93291462 0.94750731 0.94503223 0.94833236 0.95895463\n",
            " 0.95333412 0.95379818 0.94838397 0.96405954 0.96240944 0.95513891\n",
            " 0.96952537 0.97566155 0.97741473 1.         0.99221379 0.98638698\n",
            " 0.98886205 0.98303524 0.97236143 0.96962852 0.97834293 0.98231334\n",
            " 0.98308685 0.79007578 0.76926976 0.73574752 0.69808191 0.66098422\n",
            " 0.62636185 0.59477818 0.56629425 0.54081732]\n",
            "1/1 [==============================] - 0s 21ms/step\n",
            "9 day output [[0.5182025]]\n",
            "10 day input [0.78044153 0.78698111 0.77524062 0.76447853 0.77462274 0.78553928\n",
            " 0.78759908 0.80232615 0.79794919 0.81030756 0.81998826 0.81252181\n",
            " 0.81818599 0.82498318 0.81483897 0.81159487 0.82766085 0.83584826\n",
            " 0.84892751 0.85546717 0.85268658 0.84305726 0.84769166 0.8341489\n",
            " 0.8278153  0.82421076 0.85232606 0.85052387 0.85062679 0.857012\n",
            " 0.86298524 0.85793878 0.84954547 0.85114175 0.8431088  0.84305726\n",
            " 0.86700168 0.87354126 0.87307783 0.86767102 0.86205829 0.85351037\n",
            " 0.89357223 0.89321171 0.88430343 0.89352069 0.89449909 0.88965202\n",
            " 0.88707379 0.88707379 0.89027077 0.90243999 0.9030072  0.89805698\n",
            " 0.88444395 0.88588775 0.89181772 0.90439939 0.914042   0.91378416\n",
            " 0.92842846 0.93286301 0.9257987  0.92389084 0.91672338 0.93090361\n",
            " 0.93291462 0.94750731 0.94503223 0.94833236 0.95895463 0.95333412\n",
            " 0.95379818 0.94838397 0.96405954 0.96240944 0.95513891 0.96952537\n",
            " 0.97566155 0.97741473 1.         0.99221379 0.98638698 0.98886205\n",
            " 0.98303524 0.97236143 0.96962852 0.97834293 0.98231334 0.98308685\n",
            " 0.79007578 0.76926976 0.73574752 0.69808191 0.66098422 0.62636185\n",
            " 0.59477818 0.56629425 0.54081732 0.51820248]\n",
            "1/1 [==============================] - 0s 22ms/step\n",
            "10 day output [[0.49827346]]\n",
            "11 day input [0.78698111 0.77524062 0.76447853 0.77462274 0.78553928 0.78759908\n",
            " 0.80232615 0.79794919 0.81030756 0.81998826 0.81252181 0.81818599\n",
            " 0.82498318 0.81483897 0.81159487 0.82766085 0.83584826 0.84892751\n",
            " 0.85546717 0.85268658 0.84305726 0.84769166 0.8341489  0.8278153\n",
            " 0.82421076 0.85232606 0.85052387 0.85062679 0.857012   0.86298524\n",
            " 0.85793878 0.84954547 0.85114175 0.8431088  0.84305726 0.86700168\n",
            " 0.87354126 0.87307783 0.86767102 0.86205829 0.85351037 0.89357223\n",
            " 0.89321171 0.88430343 0.89352069 0.89449909 0.88965202 0.88707379\n",
            " 0.88707379 0.89027077 0.90243999 0.9030072  0.89805698 0.88444395\n",
            " 0.88588775 0.89181772 0.90439939 0.914042   0.91378416 0.92842846\n",
            " 0.93286301 0.9257987  0.92389084 0.91672338 0.93090361 0.93291462\n",
            " 0.94750731 0.94503223 0.94833236 0.95895463 0.95333412 0.95379818\n",
            " 0.94838397 0.96405954 0.96240944 0.95513891 0.96952537 0.97566155\n",
            " 0.97741473 1.         0.99221379 0.98638698 0.98886205 0.98303524\n",
            " 0.97236143 0.96962852 0.97834293 0.98231334 0.98308685 0.79007578\n",
            " 0.76926976 0.73574752 0.69808191 0.66098422 0.62636185 0.59477818\n",
            " 0.56629425 0.54081732 0.51820248 0.49827346]\n",
            "1/1 [==============================] - 0s 26ms/step\n",
            "11 day output [[0.48082376]]\n",
            "12 day input [0.77524062 0.76447853 0.77462274 0.78553928 0.78759908 0.80232615\n",
            " 0.79794919 0.81030756 0.81998826 0.81252181 0.81818599 0.82498318\n",
            " 0.81483897 0.81159487 0.82766085 0.83584826 0.84892751 0.85546717\n",
            " 0.85268658 0.84305726 0.84769166 0.8341489  0.8278153  0.82421076\n",
            " 0.85232606 0.85052387 0.85062679 0.857012   0.86298524 0.85793878\n",
            " 0.84954547 0.85114175 0.8431088  0.84305726 0.86700168 0.87354126\n",
            " 0.87307783 0.86767102 0.86205829 0.85351037 0.89357223 0.89321171\n",
            " 0.88430343 0.89352069 0.89449909 0.88965202 0.88707379 0.88707379\n",
            " 0.89027077 0.90243999 0.9030072  0.89805698 0.88444395 0.88588775\n",
            " 0.89181772 0.90439939 0.914042   0.91378416 0.92842846 0.93286301\n",
            " 0.9257987  0.92389084 0.91672338 0.93090361 0.93291462 0.94750731\n",
            " 0.94503223 0.94833236 0.95895463 0.95333412 0.95379818 0.94838397\n",
            " 0.96405954 0.96240944 0.95513891 0.96952537 0.97566155 0.97741473\n",
            " 1.         0.99221379 0.98638698 0.98886205 0.98303524 0.97236143\n",
            " 0.96962852 0.97834293 0.98231334 0.98308685 0.79007578 0.76926976\n",
            " 0.73574752 0.69808191 0.66098422 0.62636185 0.59477818 0.56629425\n",
            " 0.54081732 0.51820248 0.49827346 0.48082376]\n",
            "1/1 [==============================] - 0s 22ms/step\n",
            "12 day output [[0.4656212]]\n",
            "13 day input [0.76447853 0.77462274 0.78553928 0.78759908 0.80232615 0.79794919\n",
            " 0.81030756 0.81998826 0.81252181 0.81818599 0.82498318 0.81483897\n",
            " 0.81159487 0.82766085 0.83584826 0.84892751 0.85546717 0.85268658\n",
            " 0.84305726 0.84769166 0.8341489  0.8278153  0.82421076 0.85232606\n",
            " 0.85052387 0.85062679 0.857012   0.86298524 0.85793878 0.84954547\n",
            " 0.85114175 0.8431088  0.84305726 0.86700168 0.87354126 0.87307783\n",
            " 0.86767102 0.86205829 0.85351037 0.89357223 0.89321171 0.88430343\n",
            " 0.89352069 0.89449909 0.88965202 0.88707379 0.88707379 0.89027077\n",
            " 0.90243999 0.9030072  0.89805698 0.88444395 0.88588775 0.89181772\n",
            " 0.90439939 0.914042   0.91378416 0.92842846 0.93286301 0.9257987\n",
            " 0.92389084 0.91672338 0.93090361 0.93291462 0.94750731 0.94503223\n",
            " 0.94833236 0.95895463 0.95333412 0.95379818 0.94838397 0.96405954\n",
            " 0.96240944 0.95513891 0.96952537 0.97566155 0.97741473 1.\n",
            " 0.99221379 0.98638698 0.98886205 0.98303524 0.97236143 0.96962852\n",
            " 0.97834293 0.98231334 0.98308685 0.79007578 0.76926976 0.73574752\n",
            " 0.69808191 0.66098422 0.62636185 0.59477818 0.56629425 0.54081732\n",
            " 0.51820248 0.49827346 0.48082376 0.4656212 ]\n",
            "1/1 [==============================] - 0s 21ms/step\n",
            "13 day output [[0.45241597]]\n",
            "14 day input [0.77462274 0.78553928 0.78759908 0.80232615 0.79794919 0.81030756\n",
            " 0.81998826 0.81252181 0.81818599 0.82498318 0.81483897 0.81159487\n",
            " 0.82766085 0.83584826 0.84892751 0.85546717 0.85268658 0.84305726\n",
            " 0.84769166 0.8341489  0.8278153  0.82421076 0.85232606 0.85052387\n",
            " 0.85062679 0.857012   0.86298524 0.85793878 0.84954547 0.85114175\n",
            " 0.8431088  0.84305726 0.86700168 0.87354126 0.87307783 0.86767102\n",
            " 0.86205829 0.85351037 0.89357223 0.89321171 0.88430343 0.89352069\n",
            " 0.89449909 0.88965202 0.88707379 0.88707379 0.89027077 0.90243999\n",
            " 0.9030072  0.89805698 0.88444395 0.88588775 0.89181772 0.90439939\n",
            " 0.914042   0.91378416 0.92842846 0.93286301 0.9257987  0.92389084\n",
            " 0.91672338 0.93090361 0.93291462 0.94750731 0.94503223 0.94833236\n",
            " 0.95895463 0.95333412 0.95379818 0.94838397 0.96405954 0.96240944\n",
            " 0.95513891 0.96952537 0.97566155 0.97741473 1.         0.99221379\n",
            " 0.98638698 0.98886205 0.98303524 0.97236143 0.96962852 0.97834293\n",
            " 0.98231334 0.98308685 0.79007578 0.76926976 0.73574752 0.69808191\n",
            " 0.66098422 0.62636185 0.59477818 0.56629425 0.54081732 0.51820248\n",
            " 0.49827346 0.48082376 0.4656212  0.45241597]\n",
            "1/1 [==============================] - 0s 22ms/step\n",
            "14 day output [[0.4409509]]\n",
            "15 day input [0.78553928 0.78759908 0.80232615 0.79794919 0.81030756 0.81998826\n",
            " 0.81252181 0.81818599 0.82498318 0.81483897 0.81159487 0.82766085\n",
            " 0.83584826 0.84892751 0.85546717 0.85268658 0.84305726 0.84769166\n",
            " 0.8341489  0.8278153  0.82421076 0.85232606 0.85052387 0.85062679\n",
            " 0.857012   0.86298524 0.85793878 0.84954547 0.85114175 0.8431088\n",
            " 0.84305726 0.86700168 0.87354126 0.87307783 0.86767102 0.86205829\n",
            " 0.85351037 0.89357223 0.89321171 0.88430343 0.89352069 0.89449909\n",
            " 0.88965202 0.88707379 0.88707379 0.89027077 0.90243999 0.9030072\n",
            " 0.89805698 0.88444395 0.88588775 0.89181772 0.90439939 0.914042\n",
            " 0.91378416 0.92842846 0.93286301 0.9257987  0.92389084 0.91672338\n",
            " 0.93090361 0.93291462 0.94750731 0.94503223 0.94833236 0.95895463\n",
            " 0.95333412 0.95379818 0.94838397 0.96405954 0.96240944 0.95513891\n",
            " 0.96952537 0.97566155 0.97741473 1.         0.99221379 0.98638698\n",
            " 0.98886205 0.98303524 0.97236143 0.96962852 0.97834293 0.98231334\n",
            " 0.98308685 0.79007578 0.76926976 0.73574752 0.69808191 0.66098422\n",
            " 0.62636185 0.59477818 0.56629425 0.54081732 0.51820248 0.49827346\n",
            " 0.48082376 0.4656212  0.45241597 0.4409509 ]\n",
            "1/1 [==============================] - 0s 21ms/step\n",
            "15 day output [[0.43097156]]\n",
            "16 day input [0.78759908 0.80232615 0.79794919 0.81030756 0.81998826 0.81252181\n",
            " 0.81818599 0.82498318 0.81483897 0.81159487 0.82766085 0.83584826\n",
            " 0.84892751 0.85546717 0.85268658 0.84305726 0.84769166 0.8341489\n",
            " 0.8278153  0.82421076 0.85232606 0.85052387 0.85062679 0.857012\n",
            " 0.86298524 0.85793878 0.84954547 0.85114175 0.8431088  0.84305726\n",
            " 0.86700168 0.87354126 0.87307783 0.86767102 0.86205829 0.85351037\n",
            " 0.89357223 0.89321171 0.88430343 0.89352069 0.89449909 0.88965202\n",
            " 0.88707379 0.88707379 0.89027077 0.90243999 0.9030072  0.89805698\n",
            " 0.88444395 0.88588775 0.89181772 0.90439939 0.914042   0.91378416\n",
            " 0.92842846 0.93286301 0.9257987  0.92389084 0.91672338 0.93090361\n",
            " 0.93291462 0.94750731 0.94503223 0.94833236 0.95895463 0.95333412\n",
            " 0.95379818 0.94838397 0.96405954 0.96240944 0.95513891 0.96952537\n",
            " 0.97566155 0.97741473 1.         0.99221379 0.98638698 0.98886205\n",
            " 0.98303524 0.97236143 0.96962852 0.97834293 0.98231334 0.98308685\n",
            " 0.79007578 0.76926976 0.73574752 0.69808191 0.66098422 0.62636185\n",
            " 0.59477818 0.56629425 0.54081732 0.51820248 0.49827346 0.48082376\n",
            " 0.4656212  0.45241597 0.4409509  0.43097156]\n",
            "1/1 [==============================] - 0s 22ms/step\n",
            "16 day output [[0.42223558]]\n",
            "17 day input [0.80232615 0.79794919 0.81030756 0.81998826 0.81252181 0.81818599\n",
            " 0.82498318 0.81483897 0.81159487 0.82766085 0.83584826 0.84892751\n",
            " 0.85546717 0.85268658 0.84305726 0.84769166 0.8341489  0.8278153\n",
            " 0.82421076 0.85232606 0.85052387 0.85062679 0.857012   0.86298524\n",
            " 0.85793878 0.84954547 0.85114175 0.8431088  0.84305726 0.86700168\n",
            " 0.87354126 0.87307783 0.86767102 0.86205829 0.85351037 0.89357223\n",
            " 0.89321171 0.88430343 0.89352069 0.89449909 0.88965202 0.88707379\n",
            " 0.88707379 0.89027077 0.90243999 0.9030072  0.89805698 0.88444395\n",
            " 0.88588775 0.89181772 0.90439939 0.914042   0.91378416 0.92842846\n",
            " 0.93286301 0.9257987  0.92389084 0.91672338 0.93090361 0.93291462\n",
            " 0.94750731 0.94503223 0.94833236 0.95895463 0.95333412 0.95379818\n",
            " 0.94838397 0.96405954 0.96240944 0.95513891 0.96952537 0.97566155\n",
            " 0.97741473 1.         0.99221379 0.98638698 0.98886205 0.98303524\n",
            " 0.97236143 0.96962852 0.97834293 0.98231334 0.98308685 0.79007578\n",
            " 0.76926976 0.73574752 0.69808191 0.66098422 0.62636185 0.59477818\n",
            " 0.56629425 0.54081732 0.51820248 0.49827346 0.48082376 0.4656212\n",
            " 0.45241597 0.4409509  0.43097156 0.42223558]\n",
            "1/1 [==============================] - 0s 23ms/step\n",
            "17 day output [[0.41451982]]\n",
            "18 day input [0.79794919 0.81030756 0.81998826 0.81252181 0.81818599 0.82498318\n",
            " 0.81483897 0.81159487 0.82766085 0.83584826 0.84892751 0.85546717\n",
            " 0.85268658 0.84305726 0.84769166 0.8341489  0.8278153  0.82421076\n",
            " 0.85232606 0.85052387 0.85062679 0.857012   0.86298524 0.85793878\n",
            " 0.84954547 0.85114175 0.8431088  0.84305726 0.86700168 0.87354126\n",
            " 0.87307783 0.86767102 0.86205829 0.85351037 0.89357223 0.89321171\n",
            " 0.88430343 0.89352069 0.89449909 0.88965202 0.88707379 0.88707379\n",
            " 0.89027077 0.90243999 0.9030072  0.89805698 0.88444395 0.88588775\n",
            " 0.89181772 0.90439939 0.914042   0.91378416 0.92842846 0.93286301\n",
            " 0.9257987  0.92389084 0.91672338 0.93090361 0.93291462 0.94750731\n",
            " 0.94503223 0.94833236 0.95895463 0.95333412 0.95379818 0.94838397\n",
            " 0.96405954 0.96240944 0.95513891 0.96952537 0.97566155 0.97741473\n",
            " 1.         0.99221379 0.98638698 0.98886205 0.98303524 0.97236143\n",
            " 0.96962852 0.97834293 0.98231334 0.98308685 0.79007578 0.76926976\n",
            " 0.73574752 0.69808191 0.66098422 0.62636185 0.59477818 0.56629425\n",
            " 0.54081732 0.51820248 0.49827346 0.48082376 0.4656212  0.45241597\n",
            " 0.4409509  0.43097156 0.42223558 0.41451982]\n",
            "1/1 [==============================] - 0s 22ms/step\n",
            "18 day output [[0.4076256]]\n",
            "19 day input [0.81030756 0.81998826 0.81252181 0.81818599 0.82498318 0.81483897\n",
            " 0.81159487 0.82766085 0.83584826 0.84892751 0.85546717 0.85268658\n",
            " 0.84305726 0.84769166 0.8341489  0.8278153  0.82421076 0.85232606\n",
            " 0.85052387 0.85062679 0.857012   0.86298524 0.85793878 0.84954547\n",
            " 0.85114175 0.8431088  0.84305726 0.86700168 0.87354126 0.87307783\n",
            " 0.86767102 0.86205829 0.85351037 0.89357223 0.89321171 0.88430343\n",
            " 0.89352069 0.89449909 0.88965202 0.88707379 0.88707379 0.89027077\n",
            " 0.90243999 0.9030072  0.89805698 0.88444395 0.88588775 0.89181772\n",
            " 0.90439939 0.914042   0.91378416 0.92842846 0.93286301 0.9257987\n",
            " 0.92389084 0.91672338 0.93090361 0.93291462 0.94750731 0.94503223\n",
            " 0.94833236 0.95895463 0.95333412 0.95379818 0.94838397 0.96405954\n",
            " 0.96240944 0.95513891 0.96952537 0.97566155 0.97741473 1.\n",
            " 0.99221379 0.98638698 0.98886205 0.98303524 0.97236143 0.96962852\n",
            " 0.97834293 0.98231334 0.98308685 0.79007578 0.76926976 0.73574752\n",
            " 0.69808191 0.66098422 0.62636185 0.59477818 0.56629425 0.54081732\n",
            " 0.51820248 0.49827346 0.48082376 0.4656212  0.45241597 0.4409509\n",
            " 0.43097156 0.42223558 0.41451982 0.40762559]\n",
            "1/1 [==============================] - 0s 23ms/step\n",
            "19 day output [[0.40138164]]\n",
            "20 day input [0.81998826 0.81252181 0.81818599 0.82498318 0.81483897 0.81159487\n",
            " 0.82766085 0.83584826 0.84892751 0.85546717 0.85268658 0.84305726\n",
            " 0.84769166 0.8341489  0.8278153  0.82421076 0.85232606 0.85052387\n",
            " 0.85062679 0.857012   0.86298524 0.85793878 0.84954547 0.85114175\n",
            " 0.8431088  0.84305726 0.86700168 0.87354126 0.87307783 0.86767102\n",
            " 0.86205829 0.85351037 0.89357223 0.89321171 0.88430343 0.89352069\n",
            " 0.89449909 0.88965202 0.88707379 0.88707379 0.89027077 0.90243999\n",
            " 0.9030072  0.89805698 0.88444395 0.88588775 0.89181772 0.90439939\n",
            " 0.914042   0.91378416 0.92842846 0.93286301 0.9257987  0.92389084\n",
            " 0.91672338 0.93090361 0.93291462 0.94750731 0.94503223 0.94833236\n",
            " 0.95895463 0.95333412 0.95379818 0.94838397 0.96405954 0.96240944\n",
            " 0.95513891 0.96952537 0.97566155 0.97741473 1.         0.99221379\n",
            " 0.98638698 0.98886205 0.98303524 0.97236143 0.96962852 0.97834293\n",
            " 0.98231334 0.98308685 0.79007578 0.76926976 0.73574752 0.69808191\n",
            " 0.66098422 0.62636185 0.59477818 0.56629425 0.54081732 0.51820248\n",
            " 0.49827346 0.48082376 0.4656212  0.45241597 0.4409509  0.43097156\n",
            " 0.42223558 0.41451982 0.40762559 0.40138164]\n",
            "1/1 [==============================] - 0s 22ms/step\n",
            "20 day output [[0.3956451]]\n",
            "21 day input [0.81252181 0.81818599 0.82498318 0.81483897 0.81159487 0.82766085\n",
            " 0.83584826 0.84892751 0.85546717 0.85268658 0.84305726 0.84769166\n",
            " 0.8341489  0.8278153  0.82421076 0.85232606 0.85052387 0.85062679\n",
            " 0.857012   0.86298524 0.85793878 0.84954547 0.85114175 0.8431088\n",
            " 0.84305726 0.86700168 0.87354126 0.87307783 0.86767102 0.86205829\n",
            " 0.85351037 0.89357223 0.89321171 0.88430343 0.89352069 0.89449909\n",
            " 0.88965202 0.88707379 0.88707379 0.89027077 0.90243999 0.9030072\n",
            " 0.89805698 0.88444395 0.88588775 0.89181772 0.90439939 0.914042\n",
            " 0.91378416 0.92842846 0.93286301 0.9257987  0.92389084 0.91672338\n",
            " 0.93090361 0.93291462 0.94750731 0.94503223 0.94833236 0.95895463\n",
            " 0.95333412 0.95379818 0.94838397 0.96405954 0.96240944 0.95513891\n",
            " 0.96952537 0.97566155 0.97741473 1.         0.99221379 0.98638698\n",
            " 0.98886205 0.98303524 0.97236143 0.96962852 0.97834293 0.98231334\n",
            " 0.98308685 0.79007578 0.76926976 0.73574752 0.69808191 0.66098422\n",
            " 0.62636185 0.59477818 0.56629425 0.54081732 0.51820248 0.49827346\n",
            " 0.48082376 0.4656212  0.45241597 0.4409509  0.43097156 0.42223558\n",
            " 0.41451982 0.40762559 0.40138164 0.39564511]\n",
            "1/1 [==============================] - 0s 21ms/step\n",
            "21 day output [[0.3903006]]\n",
            "22 day input [0.81818599 0.82498318 0.81483897 0.81159487 0.82766085 0.83584826\n",
            " 0.84892751 0.85546717 0.85268658 0.84305726 0.84769166 0.8341489\n",
            " 0.8278153  0.82421076 0.85232606 0.85052387 0.85062679 0.857012\n",
            " 0.86298524 0.85793878 0.84954547 0.85114175 0.8431088  0.84305726\n",
            " 0.86700168 0.87354126 0.87307783 0.86767102 0.86205829 0.85351037\n",
            " 0.89357223 0.89321171 0.88430343 0.89352069 0.89449909 0.88965202\n",
            " 0.88707379 0.88707379 0.89027077 0.90243999 0.9030072  0.89805698\n",
            " 0.88444395 0.88588775 0.89181772 0.90439939 0.914042   0.91378416\n",
            " 0.92842846 0.93286301 0.9257987  0.92389084 0.91672338 0.93090361\n",
            " 0.93291462 0.94750731 0.94503223 0.94833236 0.95895463 0.95333412\n",
            " 0.95379818 0.94838397 0.96405954 0.96240944 0.95513891 0.96952537\n",
            " 0.97566155 0.97741473 1.         0.99221379 0.98638698 0.98886205\n",
            " 0.98303524 0.97236143 0.96962852 0.97834293 0.98231334 0.98308685\n",
            " 0.79007578 0.76926976 0.73574752 0.69808191 0.66098422 0.62636185\n",
            " 0.59477818 0.56629425 0.54081732 0.51820248 0.49827346 0.48082376\n",
            " 0.4656212  0.45241597 0.4409509  0.43097156 0.42223558 0.41451982\n",
            " 0.40762559 0.40138164 0.39564511 0.3903006 ]\n",
            "1/1 [==============================] - 0s 20ms/step\n",
            "22 day output [[0.38525853]]\n",
            "23 day input [0.82498318 0.81483897 0.81159487 0.82766085 0.83584826 0.84892751\n",
            " 0.85546717 0.85268658 0.84305726 0.84769166 0.8341489  0.8278153\n",
            " 0.82421076 0.85232606 0.85052387 0.85062679 0.857012   0.86298524\n",
            " 0.85793878 0.84954547 0.85114175 0.8431088  0.84305726 0.86700168\n",
            " 0.87354126 0.87307783 0.86767102 0.86205829 0.85351037 0.89357223\n",
            " 0.89321171 0.88430343 0.89352069 0.89449909 0.88965202 0.88707379\n",
            " 0.88707379 0.89027077 0.90243999 0.9030072  0.89805698 0.88444395\n",
            " 0.88588775 0.89181772 0.90439939 0.914042   0.91378416 0.92842846\n",
            " 0.93286301 0.9257987  0.92389084 0.91672338 0.93090361 0.93291462\n",
            " 0.94750731 0.94503223 0.94833236 0.95895463 0.95333412 0.95379818\n",
            " 0.94838397 0.96405954 0.96240944 0.95513891 0.96952537 0.97566155\n",
            " 0.97741473 1.         0.99221379 0.98638698 0.98886205 0.98303524\n",
            " 0.97236143 0.96962852 0.97834293 0.98231334 0.98308685 0.79007578\n",
            " 0.76926976 0.73574752 0.69808191 0.66098422 0.62636185 0.59477818\n",
            " 0.56629425 0.54081732 0.51820248 0.49827346 0.48082376 0.4656212\n",
            " 0.45241597 0.4409509  0.43097156 0.42223558 0.41451982 0.40762559\n",
            " 0.40138164 0.39564511 0.3903006  0.38525853]\n",
            "1/1 [==============================] - 0s 25ms/step\n",
            "23 day output [[0.38045165]]\n",
            "24 day input [0.81483897 0.81159487 0.82766085 0.83584826 0.84892751 0.85546717\n",
            " 0.85268658 0.84305726 0.84769166 0.8341489  0.8278153  0.82421076\n",
            " 0.85232606 0.85052387 0.85062679 0.857012   0.86298524 0.85793878\n",
            " 0.84954547 0.85114175 0.8431088  0.84305726 0.86700168 0.87354126\n",
            " 0.87307783 0.86767102 0.86205829 0.85351037 0.89357223 0.89321171\n",
            " 0.88430343 0.89352069 0.89449909 0.88965202 0.88707379 0.88707379\n",
            " 0.89027077 0.90243999 0.9030072  0.89805698 0.88444395 0.88588775\n",
            " 0.89181772 0.90439939 0.914042   0.91378416 0.92842846 0.93286301\n",
            " 0.9257987  0.92389084 0.91672338 0.93090361 0.93291462 0.94750731\n",
            " 0.94503223 0.94833236 0.95895463 0.95333412 0.95379818 0.94838397\n",
            " 0.96405954 0.96240944 0.95513891 0.96952537 0.97566155 0.97741473\n",
            " 1.         0.99221379 0.98638698 0.98886205 0.98303524 0.97236143\n",
            " 0.96962852 0.97834293 0.98231334 0.98308685 0.79007578 0.76926976\n",
            " 0.73574752 0.69808191 0.66098422 0.62636185 0.59477818 0.56629425\n",
            " 0.54081732 0.51820248 0.49827346 0.48082376 0.4656212  0.45241597\n",
            " 0.4409509  0.43097156 0.42223558 0.41451982 0.40762559 0.40138164\n",
            " 0.39564511 0.3903006  0.38525853 0.38045165]\n",
            "1/1 [==============================] - 0s 22ms/step\n",
            "24 day output [[0.37583244]]\n",
            "25 day input [0.81159487 0.82766085 0.83584826 0.84892751 0.85546717 0.85268658\n",
            " 0.84305726 0.84769166 0.8341489  0.8278153  0.82421076 0.85232606\n",
            " 0.85052387 0.85062679 0.857012   0.86298524 0.85793878 0.84954547\n",
            " 0.85114175 0.8431088  0.84305726 0.86700168 0.87354126 0.87307783\n",
            " 0.86767102 0.86205829 0.85351037 0.89357223 0.89321171 0.88430343\n",
            " 0.89352069 0.89449909 0.88965202 0.88707379 0.88707379 0.89027077\n",
            " 0.90243999 0.9030072  0.89805698 0.88444395 0.88588775 0.89181772\n",
            " 0.90439939 0.914042   0.91378416 0.92842846 0.93286301 0.9257987\n",
            " 0.92389084 0.91672338 0.93090361 0.93291462 0.94750731 0.94503223\n",
            " 0.94833236 0.95895463 0.95333412 0.95379818 0.94838397 0.96405954\n",
            " 0.96240944 0.95513891 0.96952537 0.97566155 0.97741473 1.\n",
            " 0.99221379 0.98638698 0.98886205 0.98303524 0.97236143 0.96962852\n",
            " 0.97834293 0.98231334 0.98308685 0.79007578 0.76926976 0.73574752\n",
            " 0.69808191 0.66098422 0.62636185 0.59477818 0.56629425 0.54081732\n",
            " 0.51820248 0.49827346 0.48082376 0.4656212  0.45241597 0.4409509\n",
            " 0.43097156 0.42223558 0.41451982 0.40762559 0.40138164 0.39564511\n",
            " 0.3903006  0.38525853 0.38045165 0.37583244]\n",
            "1/1 [==============================] - 0s 23ms/step\n",
            "25 day output [[0.37136874]]\n",
            "26 day input [0.82766085 0.83584826 0.84892751 0.85546717 0.85268658 0.84305726\n",
            " 0.84769166 0.8341489  0.8278153  0.82421076 0.85232606 0.85052387\n",
            " 0.85062679 0.857012   0.86298524 0.85793878 0.84954547 0.85114175\n",
            " 0.8431088  0.84305726 0.86700168 0.87354126 0.87307783 0.86767102\n",
            " 0.86205829 0.85351037 0.89357223 0.89321171 0.88430343 0.89352069\n",
            " 0.89449909 0.88965202 0.88707379 0.88707379 0.89027077 0.90243999\n",
            " 0.9030072  0.89805698 0.88444395 0.88588775 0.89181772 0.90439939\n",
            " 0.914042   0.91378416 0.92842846 0.93286301 0.9257987  0.92389084\n",
            " 0.91672338 0.93090361 0.93291462 0.94750731 0.94503223 0.94833236\n",
            " 0.95895463 0.95333412 0.95379818 0.94838397 0.96405954 0.96240944\n",
            " 0.95513891 0.96952537 0.97566155 0.97741473 1.         0.99221379\n",
            " 0.98638698 0.98886205 0.98303524 0.97236143 0.96962852 0.97834293\n",
            " 0.98231334 0.98308685 0.79007578 0.76926976 0.73574752 0.69808191\n",
            " 0.66098422 0.62636185 0.59477818 0.56629425 0.54081732 0.51820248\n",
            " 0.49827346 0.48082376 0.4656212  0.45241597 0.4409509  0.43097156\n",
            " 0.42223558 0.41451982 0.40762559 0.40138164 0.39564511 0.3903006\n",
            " 0.38525853 0.38045165 0.37583244 0.37136874]\n",
            "1/1 [==============================] - 0s 25ms/step\n",
            "26 day output [[0.36704087]]\n",
            "27 day input [0.83584826 0.84892751 0.85546717 0.85268658 0.84305726 0.84769166\n",
            " 0.8341489  0.8278153  0.82421076 0.85232606 0.85052387 0.85062679\n",
            " 0.857012   0.86298524 0.85793878 0.84954547 0.85114175 0.8431088\n",
            " 0.84305726 0.86700168 0.87354126 0.87307783 0.86767102 0.86205829\n",
            " 0.85351037 0.89357223 0.89321171 0.88430343 0.89352069 0.89449909\n",
            " 0.88965202 0.88707379 0.88707379 0.89027077 0.90243999 0.9030072\n",
            " 0.89805698 0.88444395 0.88588775 0.89181772 0.90439939 0.914042\n",
            " 0.91378416 0.92842846 0.93286301 0.9257987  0.92389084 0.91672338\n",
            " 0.93090361 0.93291462 0.94750731 0.94503223 0.94833236 0.95895463\n",
            " 0.95333412 0.95379818 0.94838397 0.96405954 0.96240944 0.95513891\n",
            " 0.96952537 0.97566155 0.97741473 1.         0.99221379 0.98638698\n",
            " 0.98886205 0.98303524 0.97236143 0.96962852 0.97834293 0.98231334\n",
            " 0.98308685 0.79007578 0.76926976 0.73574752 0.69808191 0.66098422\n",
            " 0.62636185 0.59477818 0.56629425 0.54081732 0.51820248 0.49827346\n",
            " 0.48082376 0.4656212  0.45241597 0.4409509  0.43097156 0.42223558\n",
            " 0.41451982 0.40762559 0.40138164 0.39564511 0.3903006  0.38525853\n",
            " 0.38045165 0.37583244 0.37136874 0.36704087]\n",
            "1/1 [==============================] - 0s 23ms/step\n",
            "27 day output [[0.36283818]]\n",
            "28 day input [0.84892751 0.85546717 0.85268658 0.84305726 0.84769166 0.8341489\n",
            " 0.8278153  0.82421076 0.85232606 0.85052387 0.85062679 0.857012\n",
            " 0.86298524 0.85793878 0.84954547 0.85114175 0.8431088  0.84305726\n",
            " 0.86700168 0.87354126 0.87307783 0.86767102 0.86205829 0.85351037\n",
            " 0.89357223 0.89321171 0.88430343 0.89352069 0.89449909 0.88965202\n",
            " 0.88707379 0.88707379 0.89027077 0.90243999 0.9030072  0.89805698\n",
            " 0.88444395 0.88588775 0.89181772 0.90439939 0.914042   0.91378416\n",
            " 0.92842846 0.93286301 0.9257987  0.92389084 0.91672338 0.93090361\n",
            " 0.93291462 0.94750731 0.94503223 0.94833236 0.95895463 0.95333412\n",
            " 0.95379818 0.94838397 0.96405954 0.96240944 0.95513891 0.96952537\n",
            " 0.97566155 0.97741473 1.         0.99221379 0.98638698 0.98886205\n",
            " 0.98303524 0.97236143 0.96962852 0.97834293 0.98231334 0.98308685\n",
            " 0.79007578 0.76926976 0.73574752 0.69808191 0.66098422 0.62636185\n",
            " 0.59477818 0.56629425 0.54081732 0.51820248 0.49827346 0.48082376\n",
            " 0.4656212  0.45241597 0.4409509  0.43097156 0.42223558 0.41451982\n",
            " 0.40762559 0.40138164 0.39564511 0.3903006  0.38525853 0.38045165\n",
            " 0.37583244 0.37136874 0.36704087 0.36283818]\n",
            "1/1 [==============================] - 0s 26ms/step\n",
            "28 day output [[0.35875642]]\n",
            "29 day input [0.85546717 0.85268658 0.84305726 0.84769166 0.8341489  0.8278153\n",
            " 0.82421076 0.85232606 0.85052387 0.85062679 0.857012   0.86298524\n",
            " 0.85793878 0.84954547 0.85114175 0.8431088  0.84305726 0.86700168\n",
            " 0.87354126 0.87307783 0.86767102 0.86205829 0.85351037 0.89357223\n",
            " 0.89321171 0.88430343 0.89352069 0.89449909 0.88965202 0.88707379\n",
            " 0.88707379 0.89027077 0.90243999 0.9030072  0.89805698 0.88444395\n",
            " 0.88588775 0.89181772 0.90439939 0.914042   0.91378416 0.92842846\n",
            " 0.93286301 0.9257987  0.92389084 0.91672338 0.93090361 0.93291462\n",
            " 0.94750731 0.94503223 0.94833236 0.95895463 0.95333412 0.95379818\n",
            " 0.94838397 0.96405954 0.96240944 0.95513891 0.96952537 0.97566155\n",
            " 0.97741473 1.         0.99221379 0.98638698 0.98886205 0.98303524\n",
            " 0.97236143 0.96962852 0.97834293 0.98231334 0.98308685 0.79007578\n",
            " 0.76926976 0.73574752 0.69808191 0.66098422 0.62636185 0.59477818\n",
            " 0.56629425 0.54081732 0.51820248 0.49827346 0.48082376 0.4656212\n",
            " 0.45241597 0.4409509  0.43097156 0.42223558 0.41451982 0.40762559\n",
            " 0.40138164 0.39564511 0.3903006  0.38525853 0.38045165 0.37583244\n",
            " 0.37136874 0.36704087 0.36283818 0.35875642]\n",
            "1/1 [==============================] - 0s 22ms/step\n",
            "29 day output [[0.35479522]]\n",
            "[[0.7900757789611816], [0.7692697644233704], [0.7357475161552429], [0.698081910610199], [0.660984218120575], [0.6263618469238281], [0.5947781801223755], [0.566294252872467], [0.5408173203468323], [0.5182024836540222], [0.49827346205711365], [0.4808237552642822], [0.4656212031841278], [0.45241597294807434], [0.4409509003162384], [0.43097156286239624], [0.4222355782985687], [0.4145198166370392], [0.40762558579444885], [0.40138164162635803], [0.3956451117992401], [0.39030060172080994], [0.3852585256099701], [0.38045164942741394], [0.3758324384689331], [0.37136873602867126], [0.36704087257385254], [0.36283817887306213], [0.358756422996521], [0.3547952175140381]]\n"
          ]
        }
      ]
    },
    {
      "cell_type": "code",
      "source": [
        "day_new=np.arange(1,101)\n",
        "day_pred=np.arange(101,131)"
      ],
      "metadata": {
        "id": "ewlLgQaoRY2Z"
      },
      "execution_count": 68,
      "outputs": []
    },
    {
      "cell_type": "code",
      "source": [
        "len(df1)"
      ],
      "metadata": {
        "colab": {
          "base_uri": "https://localhost:8080/"
        },
        "id": "Z062tJicRY4L",
        "outputId": "918866c5-f7cd-41b7-8c15-e18fb9fc7ef5"
      },
      "execution_count": 159,
      "outputs": [
        {
          "output_type": "execute_result",
          "data": {
            "text/plain": [
              "10736"
            ]
          },
          "metadata": {},
          "execution_count": 159
        }
      ]
    },
    {
      "cell_type": "code",
      "source": [
        "df1.shape"
      ],
      "metadata": {
        "colab": {
          "base_uri": "https://localhost:8080/"
        },
        "id": "XcpwVpfvSgz1",
        "outputId": "d38c24fb-e4d8-4a1a-c256-1b880a209184"
      },
      "execution_count": 72,
      "outputs": [
        {
          "output_type": "execute_result",
          "data": {
            "text/plain": [
              "(10736, 1)"
            ]
          },
          "metadata": {},
          "execution_count": 72
        }
      ]
    },
    {
      "cell_type": "code",
      "source": [
        "plt.plot(day_new,scaler.inverse_transform(df1[10636:]),label='Trained')\n",
        "plt.plot(day_pred,scaler.inverse_transform(lst_output),label='Predicted')\n",
        "plt.legend()\n",
        "plt.show()"
      ],
      "metadata": {
        "colab": {
          "base_uri": "https://localhost:8080/",
          "height": 434
        },
        "id": "pjUPTJ9aRY76",
        "outputId": "fa6f61e3-66c9-493c-a3b4-2fee97d85ad7"
      },
      "execution_count": 160,
      "outputs": [
        {
          "output_type": "display_data",
          "data": {
            "text/plain": [
              "<Figure size 640x480 with 1 Axes>"
            ],
            "image/png": "[encoded data removed]"
          },
          "metadata": {}
        }
      ]
    },
    {
      "cell_type": "code",
      "source": [
        "df3=df1.tolist()\n",
        "# print(type(df3))\n",
        "df3=scaler.inverse_transform(df3).tolist()\n",
        "# print(type(df3))\n",
        "# plt.plot(df3[10636:])\n",
        "df3.extend(lst_output)\n",
        "plt.plot(df3[10636:])"
      ],
      "metadata": {
        "colab": {
          "base_uri": "https://localhost:8080/",
          "height": 447
        },
        "id": "3YqFyzPHRY97",
        "outputId": "08db2d78-d927-4563-ee1e-5ada0f1332b7"
      },
      "execution_count": 83,
      "outputs": [
        {
          "output_type": "execute_result",
          "data": {
            "text/plain": [
              "[<matplotlib.lines.Line2D at 0x7d257c39d720>]"
            ]
          },
          "metadata": {},
          "execution_count": 83
        },
        {
          "output_type": "display_data",
          "data": {
            "text/plain": [
              "<Figure size 640x480 with 1 Axes>"
            ],
            "image/png": "[encoded data removed]"
          },
          "metadata": {}
        }
      ]
    },
    {
      "cell_type": "code",
      "source": [],
      "metadata": {
        "id": "_WWicO-TRZBj"
      },
      "execution_count": 161,
      "outputs": []
    },
    {
      "cell_type": "code",
      "source": [
        "LSTM.history.keys()"
      ],
      "metadata": {
        "colab": {
          "base_uri": "https://localhost:8080/",
          "height": 166
        },
        "id": "Tp-yWwCJRZDf",
        "outputId": "fc22a30b-b64c-4dcf-f504-67abf5b0ff00"
      },
      "execution_count": 162,
      "outputs": [
        {
          "output_type": "error",
          "ename": "AttributeError",
          "evalue": "ignored",
          "traceback": [
            "\u001b[0;31m---------------------------------------------------------------------------\u001b[0m",
            "\u001b[0;31mAttributeError\u001b[0m                            Traceback (most recent call last)",
            "\u001b[0;32m<ipython-input-162-9b5d464bd174>\u001b[0m in \u001b[0;36m<cell line: 1>\u001b[0;34m()\u001b[0m\n\u001b[0;32m----> 1\u001b[0;31m \u001b[0mLSTM\u001b[0m\u001b[0;34m.\u001b[0m\u001b[0mhistory\u001b[0m\u001b[0;34m.\u001b[0m\u001b[0mkeys\u001b[0m\u001b[0;34m(\u001b[0m\u001b[0;34m)\u001b[0m\u001b[0;34m\u001b[0m\u001b[0;34m\u001b[0m\u001b[0m\n\u001b[0m",
            "\u001b[0;31mAttributeError\u001b[0m: type object 'LSTM' has no attribute 'history'"
          ]
        }
      ]
    },
    {
      "cell_type": "code",
      "source": [
        "plt.plot(LSTM.history['val_loss'])"
      ],
      "metadata": {
        "colab": {
          "base_uri": "https://localhost:8080/",
          "height": 166
        },
        "id": "aF_JT2NaRZHc",
        "outputId": "c15da3e7-9f7f-42a5-f38b-63b7609fdc1a"
      },
      "execution_count": 163,
      "outputs": [
        {
          "output_type": "error",
          "ename": "AttributeError",
          "evalue": "ignored",
          "traceback": [
            "\u001b[0;31m---------------------------------------------------------------------------\u001b[0m",
            "\u001b[0;31mAttributeError\u001b[0m                            Traceback (most recent call last)",
            "\u001b[0;32m<ipython-input-163-e9ee8182a53c>\u001b[0m in \u001b[0;36m<cell line: 1>\u001b[0;34m()\u001b[0m\n\u001b[0;32m----> 1\u001b[0;31m \u001b[0mplt\u001b[0m\u001b[0;34m.\u001b[0m\u001b[0mplot\u001b[0m\u001b[0;34m(\u001b[0m\u001b[0mLSTM\u001b[0m\u001b[0;34m.\u001b[0m\u001b[0mhistory\u001b[0m\u001b[0;34m[\u001b[0m\u001b[0;34m'val_loss'\u001b[0m\u001b[0;34m]\u001b[0m\u001b[0;34m)\u001b[0m\u001b[0;34m\u001b[0m\u001b[0;34m\u001b[0m\u001b[0m\n\u001b[0m",
            "\u001b[0;31mAttributeError\u001b[0m: type object 'LSTM' has no attribute 'history'"
          ]
        }
      ]
    },
    {
      "cell_type": "code",
      "source": [],
      "metadata": {
        "id": "3hJIHnrPRZJ6"
      },
      "execution_count": null,
      "outputs": []
    },
    {
      "cell_type": "markdown",
      "source": [],
      "metadata": {
        "id": "9DNm8Wl-vInj"
      }
    }
  ]
}